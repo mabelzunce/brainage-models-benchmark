{
 "cells": [
  {
   "cell_type": "code",
   "execution_count": 23,
   "id": "7df35770",
   "metadata": {},
   "outputs": [],
   "source": [
    "import pandas as pd \n",
    "import numpy as np \n",
    "import matplotlib.pyplot as plt\n",
    "import seaborn as sns\n",
    "import scipy.stats as stats"
   ]
  },
  {
   "cell_type": "code",
   "execution_count": 24,
   "id": "f3d7c554",
   "metadata": {},
   "outputs": [],
   "source": [
    "BAN_CP=pd.read_csv('/data/Lautaro/Documentos/BrainAgeCOVID/DATOS/predictions/BrainAgeNeXt/BAN_CP.csv')\n",
    "BAN_ADNI=pd.read_csv('/data/Lautaro/Documentos/BrainAgeCOVID/DATOS/predictions/BrainAgeNeXt/BAN_ADNI.csv')\n",
    "BAN_CogConVar=pd.read_csv('/data/Lautaro/Documentos/BrainAgeCOVID/DATOS/predictions/BrainAgeNeXt/BAN_CogConVar.csv')\n",
    "BAN_NCN=pd.read_csv('/data/Lautaro/Documentos/BrainAgeCOVID/DATOS/predictions/BrainAgeNeXt/BAN_NCN.csv')\n",
    "\n",
    "DBN_CP=pd.read_csv('/data/Lautaro/Documentos/BrainAgeCOVID/DATOS/predictions/DeepBrainNet/DBN_CP_BET.csv')\n",
    "DBN_ADNI=pd.read_csv('/data/Lautaro/Documentos/BrainAgeCOVID/DATOS/predictions/DeepBrainNet/DBN_ADNI_BET.csv')\n",
    "DBN_ADNI.dropna(inplace=True)\n",
    "DBN_CogConVar=pd.read_csv('/data/Lautaro/Documentos/BrainAgeCOVID/DATOS/predictions/DeepBrainNet/DBN_CogConVar_BET.csv')\n",
    "DBN_NCN=pd.read_csv('/data/Lautaro/Documentos/BrainAgeCOVID/DATOS/predictions/DeepBrainNet/DBN_NCN_BET.csv')\n",
    "\n",
    "pyment_CP=pd.read_csv('/data/Lautaro/Documentos/BrainAgeCOVID/DATOS/predictions/pyment/pyment_CP.csv')\n",
    "pyment_ADNI=pd.read_csv('/data/Lautaro/Documentos/BrainAgeCOVID/DATOS/predictions/pyment/pyment_ADNI.csv')\n",
    "pyment_CogConVar=pd.read_csv('/data/Lautaro/Documentos/BrainAgeCOVID/DATOS/predictions/pyment/pyment_CogConVar.csv')\n",
    "pyment_NCN=pd.read_csv('/data/Lautaro/Documentos/BrainAgeCOVID/DATOS/predictions/pyment/pyment_NCN.csv')\n",
    "\n",
    "ENIGMA_CP=pd.read_csv('/data/Lautaro/Documentos/BrainAgeCOVID/DATOS/predictions/ENIGMA/ENIGMA_CP.csv')\n",
    "ENIGMA_ADNI=pd.read_csv('/data/Lautaro/Documentos/BrainAgeCOVID/DATOS/predictions/ENIGMA/ENIGMA_ADNI.csv')\n",
    "ENIGMA_NCN= pd.read_csv('/data/Lautaro/Documentos/BrainAgeCOVID/DATOS/predictions/ENIGMA/ENIGMA_NCN.csv')\n",
    "ENIGMA_CogConVar=pd.read_csv('/data/Lautaro/Documentos/BrainAgeCOVID/DATOS/predictions/ENIGMA/ENIGMA_CogConVar.csv')"
   ]
  },
  {
   "cell_type": "code",
   "execution_count": 25,
   "id": "8b1afa81",
   "metadata": {},
   "outputs": [],
   "source": [
    "#Calculos de los MAE y ME\n",
    "MAEBANCP=np.mean(BAN_CP['Absolute_Error'])\n",
    "MEBANCP=np.mean(BAN_CP['Error'])\n",
    "MAEBANADNI=np.mean(BAN_ADNI[BAN_ADNI['Group']=='CN']['Absolute_Error'])\n",
    "MEBANADNI=np.mean(BAN_ADNI[BAN_ADNI['Group']=='CN']['Error'])\n",
    "MAEBANCogConVar=np.mean(BAN_CogConVar['Absolute_Error'])\n",
    "MEBANCogConVar=np.mean(BAN_CogConVar['Error'])\n",
    "MAEBANNCN=np.mean(BAN_NCN['Absolute_Error'])\n",
    "MEBANNCN=np.mean(BAN_NCN['Error'])\n",
    "\n",
    "MAEDBNCP=np.mean(DBN_CP['Absolute_Error'])\n",
    "MEDBNCP=np.mean(DBN_CP['Error'])\n",
    "MAEDBNADNI=np.mean(DBN_ADNI[DBN_ADNI['Group']=='CN']['Absolute_error'])\n",
    "MEDBNADNI=np.mean(DBN_ADNI[DBN_ADNI['Group']=='CN']['Error'])\n",
    "MAEDBNCogConVar=np.mean(DBN_CogConVar['Absolute_error'])\n",
    "MEDBNCogConVar=np.mean(DBN_CogConVar['Error'])\n",
    "MAEDBNNCN=np.mean(DBN_NCN['Absolute_error'])\n",
    "MEDBNNCN=np.mean(DBN_NCN['Error'])\n",
    "\n",
    "MAEpymentCP=np.mean(pyment_CP['Absolute_Error'])\n",
    "MEpymentCP=np.mean(pyment_CP['Error'])\n",
    "MAEpymentADNI=np.mean(pyment_ADNI[pyment_ADNI['Group']=='CN']['Absolute_Error'])\n",
    "MEpymentADNI=np.mean(pyment_ADNI[pyment_ADNI['Group']=='CN']['Error'])\n",
    "MAEpymentCogConVar=np.mean(pyment_CogConVar['Absolute_Error'])\n",
    "MEpymentCogConVar=np.mean(pyment_CogConVar['Error'])\n",
    "MAEpymentNCN=np.mean(pyment_NCN['Absolute_Error'])\n",
    "MEpymentNCN=np.mean(pyment_NCN['Error'])\n",
    "\n",
    "MAEENIGMACP=np.mean(ENIGMA_CP['Absolute_Error'])\n",
    "MEENIGMACP=np.mean(ENIGMA_CP['Error'])\n",
    "MAEENIGMAADNI=np.mean(ENIGMA_ADNI[ENIGMA_ADNI['Group']=='CN']['Absolute Error'])\n",
    "MEENIGMAADNI=np.mean(ENIGMA_ADNI[ENIGMA_ADNI['Group']=='CN']['Error'])\n",
    "MAEENIGMANCN=np.mean(ENIGMA_NCN['Absolute Error'])\n",
    "MEENIGMANCN=np.mean(ENIGMA_NCN['Error'])\n",
    "MAEENIGMACogConVar=np.mean(ENIGMA_CogConVar['Absolute Error'])\n",
    "MEENIGMACogConVar=np.mean(ENIGMA_CogConVar['Error'])"
   ]
  },
  {
   "cell_type": "code",
   "execution_count": 26,
   "id": "1242fc3b",
   "metadata": {},
   "outputs": [
    {
     "name": "stdout",
     "output_type": "stream",
     "text": [
      "MAE Table:\n",
      "              CP       ADNI  CogConVar        NCN\n",
      "Model                                            \n",
      "BAN     5.045303   6.008605   4.347577   2.605343\n",
      "DBN     4.575119   5.868747   6.009441   8.394801\n",
      "pyment  3.426844   5.307524   3.803566   2.954403\n",
      "ENIGMA  6.299350  13.702994  16.431683  12.689510\n"
     ]
    }
   ],
   "source": [
    "#mostrar MAE en una tabla\n",
    "MAE_table = pd.DataFrame({\n",
    "    'Model': ['BAN', 'DBN', 'pyment', 'ENIGMA'],\n",
    "    'CP': [MAEBANCP, MAEDBNCP, MAEpymentCP, MAEENIGMACP],\n",
    "    'ADNI': [MAEBANADNI, MAEDBNADNI, MAEpymentADNI, MAEENIGMAADNI],\n",
    "    'CogConVar': [MAEBANCogConVar, MAEDBNCogConVar, MAEpymentCogConVar, MAEENIGMACogConVar],\n",
    "    'NCN': [MAEBANNCN, MAEDBNNCN, MAEpymentNCN, MAEENIGMANCN]\n",
    "})\n",
    "MAE_table.set_index('Model', inplace=True)\n",
    "print(\"MAE Table:\")\n",
    "print(MAE_table)"
   ]
  },
  {
   "cell_type": "code",
   "execution_count": 27,
   "id": "90c72465",
   "metadata": {},
   "outputs": [
    {
     "data": {
      "text/plain": [
       "np.float64(-5.4740655705912085)"
      ]
     },
     "execution_count": 27,
     "metadata": {},
     "output_type": "execute_result"
    }
   ],
   "source": [
    "np.mean(BAN_ADNI[BAN_ADNI['Group']=='CN']['Error'])"
   ]
  },
  {
   "cell_type": "code",
   "execution_count": 28,
   "id": "43722686",
   "metadata": {},
   "outputs": [
    {
     "name": "stdout",
     "output_type": "stream",
     "text": [
      "\n",
      "ME Table:\n",
      "              CP       ADNI  CogConVar        NCN\n",
      "Model                                            \n",
      "BAN    -3.631544  -5.474066  -3.012330  -1.890091\n",
      "DBN     1.727493  -4.795212   2.788525   8.256603\n",
      "pyment -1.317884  -4.866534  -0.231024   1.381504\n",
      "ENIGMA -2.400194 -13.155339  -4.225179  12.573071\n"
     ]
    }
   ],
   "source": [
    "#mostrar ME en una tabla\n",
    "ME_table = pd.DataFrame({\n",
    "    'Model': ['BAN', 'DBN', 'pyment', 'ENIGMA'],\n",
    "    'CP': [MEBANCP, MEDBNCP, MEpymentCP, MEENIGMACP],\n",
    "    'ADNI': [MEBANADNI, MEDBNADNI, MEpymentADNI, MEENIGMAADNI],\n",
    "    'CogConVar': [MEBANCogConVar, MEDBNCogConVar, MEpymentCogConVar, MEENIGMACogConVar],\n",
    "    'NCN': [MEBANNCN, MEDBNNCN, MEpymentNCN, MEENIGMANCN]\n",
    "})\n",
    "ME_table.set_index('Model', inplace=True)\n",
    "print(\"\\nME Table:\")\n",
    "print(ME_table)"
   ]
  },
  {
   "cell_type": "code",
   "execution_count": 29,
   "id": "0454e546",
   "metadata": {},
   "outputs": [
    {
     "data": {
      "text/html": [
       "<div>\n",
       "<style scoped>\n",
       "    .dataframe tbody tr th:only-of-type {\n",
       "        vertical-align: middle;\n",
       "    }\n",
       "\n",
       "    .dataframe tbody tr th {\n",
       "        vertical-align: top;\n",
       "    }\n",
       "\n",
       "    .dataframe thead th {\n",
       "        text-align: right;\n",
       "    }\n",
       "</style>\n",
       "<table border=\"1\" class=\"dataframe\">\n",
       "  <thead>\n",
       "    <tr style=\"text-align: right;\">\n",
       "      <th></th>\n",
       "      <th>ID</th>\n",
       "      <th>Pred_Age</th>\n",
       "      <th>Group</th>\n",
       "      <th>Sex</th>\n",
       "      <th>Age</th>\n",
       "      <th>Visit</th>\n",
       "      <th>Modality</th>\n",
       "      <th>Description</th>\n",
       "      <th>Type</th>\n",
       "      <th>Acq Date</th>\n",
       "      <th>Format</th>\n",
       "      <th>Downloaded</th>\n",
       "      <th>Absolute_error</th>\n",
       "      <th>Error</th>\n",
       "    </tr>\n",
       "  </thead>\n",
       "  <tbody>\n",
       "    <tr>\n",
       "      <th>211</th>\n",
       "      <td>016_S_6708_I1151022</td>\n",
       "      <td>70.065660</td>\n",
       "      <td>AD</td>\n",
       "      <td>M</td>\n",
       "      <td>56.0</td>\n",
       "      <td>sc</td>\n",
       "      <td>MRI</td>\n",
       "      <td>Accelerated Sagittal MPRAGE</td>\n",
       "      <td>Original</td>\n",
       "      <td>3/26/2019</td>\n",
       "      <td>DCM</td>\n",
       "      <td>10/12/2022</td>\n",
       "      <td>14.065660</td>\n",
       "      <td>14.065660</td>\n",
       "    </tr>\n",
       "    <tr>\n",
       "      <th>286</th>\n",
       "      <td>021_S_7045_I1547793</td>\n",
       "      <td>80.652230</td>\n",
       "      <td>CN</td>\n",
       "      <td>F</td>\n",
       "      <td>68.0</td>\n",
       "      <td>sc</td>\n",
       "      <td>MRI</td>\n",
       "      <td>Accelerated Sag IR-FSPGR</td>\n",
       "      <td>Original</td>\n",
       "      <td>2/22/2022</td>\n",
       "      <td>DCM</td>\n",
       "      <td>10/13/2022</td>\n",
       "      <td>12.652230</td>\n",
       "      <td>12.652230</td>\n",
       "    </tr>\n",
       "    <tr>\n",
       "      <th>42</th>\n",
       "      <td>003_S_6264_I1005735</td>\n",
       "      <td>66.954650</td>\n",
       "      <td>AD</td>\n",
       "      <td>M</td>\n",
       "      <td>55.0</td>\n",
       "      <td>sc</td>\n",
       "      <td>MRI</td>\n",
       "      <td>Accelerated Sagittal MPRAGE</td>\n",
       "      <td>Original</td>\n",
       "      <td>6/04/2018</td>\n",
       "      <td>DCM</td>\n",
       "      <td>10/12/2022</td>\n",
       "      <td>11.954650</td>\n",
       "      <td>11.954650</td>\n",
       "    </tr>\n",
       "    <tr>\n",
       "      <th>978</th>\n",
       "      <td>131_S_6805_I1573570</td>\n",
       "      <td>74.618930</td>\n",
       "      <td>MCI</td>\n",
       "      <td>F</td>\n",
       "      <td>63.0</td>\n",
       "      <td>y1</td>\n",
       "      <td>MRI</td>\n",
       "      <td>Sagittal 3D Accelerated MPRAGE</td>\n",
       "      <td>Original</td>\n",
       "      <td>11/23/2020</td>\n",
       "      <td>DCM</td>\n",
       "      <td>10/13/2022</td>\n",
       "      <td>11.618930</td>\n",
       "      <td>11.618930</td>\n",
       "    </tr>\n",
       "    <tr>\n",
       "      <th>977</th>\n",
       "      <td>131_S_6805_I1525978</td>\n",
       "      <td>75.081300</td>\n",
       "      <td>MCI</td>\n",
       "      <td>F</td>\n",
       "      <td>64.0</td>\n",
       "      <td>y2</td>\n",
       "      <td>MRI</td>\n",
       "      <td>Sagittal 3D Accelerated MPRAGE</td>\n",
       "      <td>Original</td>\n",
       "      <td>11/17/2021</td>\n",
       "      <td>DCM</td>\n",
       "      <td>10/13/2022</td>\n",
       "      <td>11.081300</td>\n",
       "      <td>11.081300</td>\n",
       "    </tr>\n",
       "    <tr>\n",
       "      <th>...</th>\n",
       "      <td>...</td>\n",
       "      <td>...</td>\n",
       "      <td>...</td>\n",
       "      <td>...</td>\n",
       "      <td>...</td>\n",
       "      <td>...</td>\n",
       "      <td>...</td>\n",
       "      <td>...</td>\n",
       "      <td>...</td>\n",
       "      <td>...</td>\n",
       "      <td>...</td>\n",
       "      <td>...</td>\n",
       "      <td>...</td>\n",
       "      <td>...</td>\n",
       "    </tr>\n",
       "    <tr>\n",
       "      <th>813</th>\n",
       "      <td>123_S_4170_I1346816</td>\n",
       "      <td>56.829390</td>\n",
       "      <td>LMCI</td>\n",
       "      <td>F</td>\n",
       "      <td>75.0</td>\n",
       "      <td>y3</td>\n",
       "      <td>MRI</td>\n",
       "      <td>Sagittal 3D Accelerated MPRAGE</td>\n",
       "      <td>Original</td>\n",
       "      <td>10/07/2020</td>\n",
       "      <td>DCM</td>\n",
       "      <td>10/13/2022</td>\n",
       "      <td>18.170610</td>\n",
       "      <td>-18.170610</td>\n",
       "    </tr>\n",
       "    <tr>\n",
       "      <th>605</th>\n",
       "      <td>067_S_6958_I1470151</td>\n",
       "      <td>57.673042</td>\n",
       "      <td>CN</td>\n",
       "      <td>F</td>\n",
       "      <td>76.0</td>\n",
       "      <td>sc</td>\n",
       "      <td>MRI</td>\n",
       "      <td>Accelerated Sagittal MPRAGE</td>\n",
       "      <td>Original</td>\n",
       "      <td>7/16/2021</td>\n",
       "      <td>DCM</td>\n",
       "      <td>10/13/2022</td>\n",
       "      <td>18.326958</td>\n",
       "      <td>-18.326958</td>\n",
       "    </tr>\n",
       "    <tr>\n",
       "      <th>936</th>\n",
       "      <td>130_S_4352_I1175083</td>\n",
       "      <td>72.148865</td>\n",
       "      <td>CN</td>\n",
       "      <td>M</td>\n",
       "      <td>91.0</td>\n",
       "      <td>y2</td>\n",
       "      <td>MRI</td>\n",
       "      <td>Sagittal 3D Accelerated MPRAGE</td>\n",
       "      <td>Original</td>\n",
       "      <td>6/11/2019</td>\n",
       "      <td>DCM</td>\n",
       "      <td>10/12/2022</td>\n",
       "      <td>18.851135</td>\n",
       "      <td>-18.851135</td>\n",
       "    </tr>\n",
       "    <tr>\n",
       "      <th>426</th>\n",
       "      <td>033_S_1016_I1262195</td>\n",
       "      <td>70.968280</td>\n",
       "      <td>CN</td>\n",
       "      <td>F</td>\n",
       "      <td>91.0</td>\n",
       "      <td>y2</td>\n",
       "      <td>MRI</td>\n",
       "      <td>Accelerated Sagittal MPRAGE</td>\n",
       "      <td>Original</td>\n",
       "      <td>12/04/2019</td>\n",
       "      <td>DCM</td>\n",
       "      <td>10/12/2022</td>\n",
       "      <td>20.031720</td>\n",
       "      <td>-20.031720</td>\n",
       "    </tr>\n",
       "    <tr>\n",
       "      <th>240</th>\n",
       "      <td>019_S_6186_I958499</td>\n",
       "      <td>66.882830</td>\n",
       "      <td>CN</td>\n",
       "      <td>M</td>\n",
       "      <td>90.0</td>\n",
       "      <td>sc</td>\n",
       "      <td>MRI</td>\n",
       "      <td>Sagittal 3D Accelerated MPRAGE</td>\n",
       "      <td>Original</td>\n",
       "      <td>1/29/2018</td>\n",
       "      <td>DCM</td>\n",
       "      <td>10/12/2022</td>\n",
       "      <td>23.117170</td>\n",
       "      <td>-23.117170</td>\n",
       "    </tr>\n",
       "  </tbody>\n",
       "</table>\n",
       "<p>965 rows × 14 columns</p>\n",
       "</div>"
      ],
      "text/plain": [
       "                      ID   Pred_Age Group Sex   Age Visit Modality  \\\n",
       "211  016_S_6708_I1151022  70.065660    AD   M  56.0    sc      MRI   \n",
       "286  021_S_7045_I1547793  80.652230    CN   F  68.0    sc      MRI   \n",
       "42   003_S_6264_I1005735  66.954650    AD   M  55.0    sc      MRI   \n",
       "978  131_S_6805_I1573570  74.618930   MCI   F  63.0    y1      MRI   \n",
       "977  131_S_6805_I1525978  75.081300   MCI   F  64.0    y2      MRI   \n",
       "..                   ...        ...   ...  ..   ...   ...      ...   \n",
       "813  123_S_4170_I1346816  56.829390  LMCI   F  75.0    y3      MRI   \n",
       "605  067_S_6958_I1470151  57.673042    CN   F  76.0    sc      MRI   \n",
       "936  130_S_4352_I1175083  72.148865    CN   M  91.0    y2      MRI   \n",
       "426  033_S_1016_I1262195  70.968280    CN   F  91.0    y2      MRI   \n",
       "240   019_S_6186_I958499  66.882830    CN   M  90.0    sc      MRI   \n",
       "\n",
       "                        Description      Type    Acq Date Format  Downloaded  \\\n",
       "211     Accelerated Sagittal MPRAGE  Original   3/26/2019    DCM  10/12/2022   \n",
       "286        Accelerated Sag IR-FSPGR  Original   2/22/2022    DCM  10/13/2022   \n",
       "42      Accelerated Sagittal MPRAGE  Original   6/04/2018    DCM  10/12/2022   \n",
       "978  Sagittal 3D Accelerated MPRAGE  Original  11/23/2020    DCM  10/13/2022   \n",
       "977  Sagittal 3D Accelerated MPRAGE  Original  11/17/2021    DCM  10/13/2022   \n",
       "..                              ...       ...         ...    ...         ...   \n",
       "813  Sagittal 3D Accelerated MPRAGE  Original  10/07/2020    DCM  10/13/2022   \n",
       "605     Accelerated Sagittal MPRAGE  Original   7/16/2021    DCM  10/13/2022   \n",
       "936  Sagittal 3D Accelerated MPRAGE  Original   6/11/2019    DCM  10/12/2022   \n",
       "426     Accelerated Sagittal MPRAGE  Original  12/04/2019    DCM  10/12/2022   \n",
       "240  Sagittal 3D Accelerated MPRAGE  Original   1/29/2018    DCM  10/12/2022   \n",
       "\n",
       "     Absolute_error      Error  \n",
       "211       14.065660  14.065660  \n",
       "286       12.652230  12.652230  \n",
       "42        11.954650  11.954650  \n",
       "978       11.618930  11.618930  \n",
       "977       11.081300  11.081300  \n",
       "..              ...        ...  \n",
       "813       18.170610 -18.170610  \n",
       "605       18.326958 -18.326958  \n",
       "936       18.851135 -18.851135  \n",
       "426       20.031720 -20.031720  \n",
       "240       23.117170 -23.117170  \n",
       "\n",
       "[965 rows x 14 columns]"
      ]
     },
     "execution_count": 29,
     "metadata": {},
     "output_type": "execute_result"
    }
   ],
   "source": [
    "DBN_ADNI.sort_values(by='Error', ascending=False)"
   ]
  },
  {
   "cell_type": "code",
   "execution_count": 30,
   "id": "e80dc2f2",
   "metadata": {},
   "outputs": [
    {
     "name": "stderr",
     "output_type": "stream",
     "text": [
      "/tmp/ipykernel_720370/2680518409.py:25: UserWarning: No artists with labels found to put in legend.  Note that artists whose label start with an underscore are ignored when legend() is called with no argument.\n",
      "  axes[1].legend()\n",
      "/tmp/ipykernel_720370/2680518409.py:37: UserWarning: No artists with labels found to put in legend.  Note that artists whose label start with an underscore are ignored when legend() is called with no argument.\n",
      "  axes[2].legend()\n",
      "/tmp/ipykernel_720370/2680518409.py:49: UserWarning: No artists with labels found to put in legend.  Note that artists whose label start with an underscore are ignored when legend() is called with no argument.\n",
      "  axes[3].legend()\n"
     ]
    },
    {
     "data": {
      "image/png": "[encoded data removed]",
      "text/plain": [
       "<Figure size 2400x600 with 4 Axes>"
      ]
     },
     "metadata": {},
     "output_type": "display_data"
    }
   ],
   "source": [
    "fig, axes = plt.subplots(1, 4, figsize=(24, 6), sharex=True, sharey=True)\n",
    "axes = axes.flatten()\n",
    "\n",
    "# --- Gráfico 1: ENIGMA ---\n",
    "sns.scatterplot(data=ENIGMA_ADNI[ENIGMA_ADNI['Group']=='CN'], y='Age', x='prediction', ax=axes[0], color='red', label='ADNI')\n",
    "sns.scatterplot(data=ENIGMA_CP, y='Edad', x='prediction', ax=axes[0], color='blue', label='UNSAM_LC')\n",
    "sns.scatterplot(data=ENIGMA_CogConVar, y='age', x='prediction', ax=axes[0], color='orange', label='RRIB')\n",
    "sns.scatterplot(data=ENIGMA_NCN, y='age', x='prediction', ax=axes[0], color='green', label='JUK')\n",
    "axes[0].plot([0, 100], [0, 100], color='black', label='Identity line')\n",
    "axes[0].set_title('ENIGMA', fontsize=20)\n",
    "axes[0].set_xlabel('Predicted Brain Age', fontsize=16)\n",
    "axes[0].set_ylabel('Chronological Age', fontsize=16)\n",
    "axes[0].legend(fontsize=14)\n",
    "axes[0].grid(True)\n",
    "\n",
    "# --- Gráfico 2: DeepBrainNet ---\n",
    "sns.scatterplot(data=DBN_ADNI[DBN_ADNI['Group']=='CN'], y='Age', x='Pred_Age', ax=axes[1], color='red')\n",
    "sns.scatterplot(data=DBN_CP, y='Edad', x='Pred_Age', ax=axes[1], color='blue')\n",
    "sns.scatterplot(data=DBN_NCN, y='age', x='Pred_Age', ax=axes[1], color='green')\n",
    "sns.scatterplot(data=DBN_CogConVar, y='age', x='Pred_Age', ax=axes[1], color='orange')\n",
    "axes[1].plot([0, 100], [0, 100], color='black')\n",
    "axes[1].set_title('DeepBrainNet', fontsize=20)\n",
    "axes[1].set_xlabel('Predicted Brain Age', fontsize=16)\n",
    "axes[1].set_ylabel('Chronological Age', fontsize=16)\n",
    "axes[1].legend()\n",
    "axes[1].grid(True)\n",
    "\n",
    "# --- Gráfico 3: Pyment ---\n",
    "sns.scatterplot(data=pyment_ADNI[pyment_ADNI['Group']=='CN'], y='Age', x='prediction', ax=axes[2], color='red')\n",
    "sns.scatterplot(data=pyment_CP, y='Edad', x='prediction', ax=axes[2], color='blue')\n",
    "sns.scatterplot(data=pyment_NCN, y='age', x='prediction', ax=axes[2], color='green')\n",
    "sns.scatterplot(data=pyment_CogConVar, y='age', x='prediction', ax=axes[2], color='orange')\n",
    "axes[2].plot([0, 100], [0, 100], color='black')\n",
    "axes[2].set_title('Pyment', fontsize=20)\n",
    "axes[2].set_xlabel('Predicted Brain Age', fontsize=16)\n",
    "axes[2].set_ylabel('Chronological Age', fontsize=16)\n",
    "axes[2].legend()\n",
    "axes[2].grid(True)\n",
    "\n",
    "# --- Gráfico 4: BrainAgeNeXt ---\n",
    "sns.scatterplot(data=BAN_ADNI[BAN_ADNI['Group']=='CN'], y='Age', x='Predicted_Brain_Age', ax=axes[3], color='red')\n",
    "sns.scatterplot(data=BAN_CP, y='Edad', x='Predicted_Brain_Age', ax=axes[3], color='blue')\n",
    "sns.scatterplot(data=BAN_NCN, y='age', x='Predicted_Brain_Age', ax=axes[3], color='green')\n",
    "sns.scatterplot(data=BAN_CogConVar, y='age', x='Predicted_Brain_Age', ax=axes[3], color='orange')\n",
    "axes[3].plot([0, 100], [0, 100], color='black')\n",
    "axes[3].set_title('BrainAgeNeXt', fontsize=20)\n",
    "axes[3].set_xlabel('Predicted Brain Age', fontsize=16)\n",
    "axes[3].set_ylabel('Age', fontsize=16)\n",
    "axes[3].legend()\n",
    "axes[3].grid(True)\n",
    "\n",
    "# Configuración común\n",
    "for ax in axes:\n",
    "    ax.set_xlim(0, 100)\n",
    "\n",
    "plt.tight_layout()\n",
    "plt.show()\n"
   ]
  },
  {
   "cell_type": "code",
   "execution_count": 31,
   "id": "f2b1797a",
   "metadata": {},
   "outputs": [],
   "source": [
    "import plotly.express as px\n",
    "from plotly.subplots import make_subplots\n",
    "import plotly.graph_objects as go"
   ]
  },
  {
   "cell_type": "code",
   "execution_count": 32,
   "id": "f162c337",
   "metadata": {},
   "outputs": [
    {
     "data": {
      "application/vnd.plotly.v1+json": {
       "config": {
        "plotlyServerURL": "https://plot.ly"
       },
       "data": [
        {
         "marker": {
          "color": "#495CD4"
         },
         "name": "UNSAM_LC CN",
         "type": "box",
         "xaxis": "x4",
         "y": {
          "bdata": "lUOLbKqRI8BAiUFgrwAOwJjC9Sh7xRpA6Pup8UxRGECwdJMYsJ0GwKBH4Xp48vq/ULgehQ8zBsDQItv5YpMDwKHtfD97QgDAaJHtfFdZIsAQWDk0VP0swDAxCKyWwgXAYLpJDMmWGsCwR+F6thUCQP6Q7Xx/9Mu/ANnO97+U8b+cxCCwJUcWwGQ738/7pCTAkBbZzo91C8AoBoGVxP8XQFhiEFjvaxHA2KNwvWOuIMBIuB6FW9ULwJAW2c4xpQXAoHA9Cqdb979Ii2zng5sXwKHEILB03QXA/iyynS/eyb8YBFYOiKQWwLTIdj76LCHAANEi2zE+4z+pm8QgcccTwNj5fmo5kBbA/CHb+f6csr9A30+NDgISwIAMAisXsPM/yHa+nzFjEsCIbOf7aS0XwEAOLbKlKP+/vyCwcrlNHUDgJAaBCYz5P8Dx0k3iqgpAZDvfzzGTKcBYDi2yBskVwADVeOkNAhDA",
          "dtype": "f8"
         },
         "yaxis": "y4"
        },
        {
         "marker": {
          "color": "#E2495E"
         },
         "name": "UNSAM_LC LC",
         "type": "box",
         "xaxis": "x4",
         "y": {
          "bdata": "8FG4Htl/D8BwPQrXbHwYwOD91HgrngJATDeJQWmgFsDgTWIQPGP9P+ilm8Thih7AhMDKIRDWIMBYj8L1BRgfQGCPwvUybQ/AEARWDtyIH8DipZvEXNT9v2C6SQzHbBnAaJHtfLZVF8BIi2znVzAdwGBiEFg9O/C/UI2XbtDUGED/fD81IgL8v//5fmpEpO6/gGq8dPEaAEDJdr6fv/wQwNAi2/nuEQjAaJHtfBw5HMBgZmZmNN0HwMl2vp+f9hDAwJ8aL3OjA0DQSzeJB5UJwODO91M2bCFA4E+Nl8WtEkBoke18KCEYwACDwMpBQs2/Dlg5tPMhKcAQ16NwqwcTQCBU46WXB/O/QIts5/M66r/9Lt0kprfLv0AGgZW7iQ5AoJ8aLyGU/j+om8Qgw7MTwIhs5/tbERTAkBbZzt1IBMB46SYxsxAcwNijcL1k/yLA8FG4HjlQFcC88/3UUrodwKBuEoNkJP+/sBxaZDNlDsCYwvUoieUcQNHMzMzloxBAiGzn+56TEsBoPQrX9mMRwGC6SQwDghXA4KNwPaB4BsAshxZZs/cnwPwvMzNz1LM/9dJN4rk1K8C8dJMYcpEiwOB6FK4VTgLAILByaOJZHsAghxbZsT8awAiBlUMy4xLAYI/C9YaiCMCYGARWL4ASwPBRuB4MIBnAGARWDtqnFsBMDAKrNwgiwKAYBFaiFPM/MgisHIq5DsDo+6nxjZUeQP9s5/vZRdS/oMQgsJ1ZIkBA4XoUVkTiv2G6SQztIxvAtB6Fa3tAJ8BkO9/Pn9cgwFA3iUFmcQjARLbzfVH8KsAA1XjpT9cawBgEVg757hjASQwCq5cVLcDQItv5vMsTwIBoke0Y3/A/QN0kBiPiCECAvp8a9TYDwFC4HoWcahpAwMqhRScIGMBAYhBYJT3xvziJQWCLbRJAUA4tsuiyFsBIi2znzyQfwOilm8S7LxjAQOF6FH4C7b9oke18fbwVwEDfT40jKBrAALKd7+dgvb/go3A9Tvf+v3A9Cte6FR7AIQIrh4Lx8r9gEFg5/FD0v3jpJjHi+hPAMGDl0Ch3CMDwUbgejG0awIA9Ctcbc+m//vzUeIk/xj//qxxa5FnWvwDVeOlrRRbASLbz/fqeEcCgnxovifX1P3/jpZv8T/g/gGq8dLUlKMBA30+Nh9wPwGQ738945yHA9NJN4poKJMABfT81+j36v4XAyiGsBiPAEIGVQ3ftC8DQ91Pje/UgwMAi2/lm9+U/gJduEm+l9b/b+X5qohklwHxqvPSx4CPACIGVQwreE8CgRbbzc94HwNRNYhCoQCPAoBxaZN+E97+EwMohm2UjwHBmZmYyTgrAsEfhekulHsAgsHJo2KkfwGC6SQy/XBHAf2q89OYiJcAAAiuH8i37v0O2830CbirAAM3MzLj+879o5/upPscWQITAyiEDlyLAaJHt/Cp1JsDwUbgee8QHwJzEILDmYBbAeOkmMdzLEMCAarz0aI8gwPgoXI/BKxjAoEW281++BcDQItv5Er8SwGDn+6nNZvC/iMDKoVeTGMAYWmQ7ZpAbQKibxCAFGBHA2M73UzVhFsDwehSuG7AGwPXSTeKEzSrAgL6fGo3/AsDw0k1i6lYHwOHMzMzQh/K/sEfhenGfFMDJdr6fX1AawLx0k5hyQyXA8FG4HpSaEcA=",
          "dtype": "f8"
         },
         "yaxis": "y4"
        },
        {
         "marker": {
          "color": "#223BE0"
         },
         "name": "ADNI CN",
         "type": "box",
         "xaxis": "x4",
         "y": {
          "bdata": "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",
          "dtype": "f8"
         },
         "yaxis": "y4"
        },
        {
         "marker": {
          "color": "red"
         },
         "name": "ADNI MCI",
         "type": "box",
         "xaxis": "x4",
         "y": {
          "bdata": "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",
          "dtype": "f8"
         },
         "yaxis": "y4"
        },
        {
         "marker": {
          "color": "#EE2F9B"
         },
         "name": "ADNI AD",
         "type": "box",
         "xaxis": "x4",
         "y": {
          "bdata": "aWZmZgtQJECAQ4tsV+r/v2AUrkdxqg3AINejcA2qB0BAqvHSVa7pP+B46SbBdQpAiEFg5afRJMB/+X5qjKfbv3AQWDkanxNAENejcFmXE0BwEFg5rH8QQP5F4XoUD8G/QLbz/ShVAsABhxbZblb4v6gcWmQCTinA/XM9Cte0sz9gFK5HaXACwKByaJFVDgXAAAAAAMDQ/b+gcmiRnXwPwEGuR+FaUvk/cGiR7Xy0GMAgg8DKQSAWQIiXbhJRByXAMF66Scw9E8Cgxks3p9UawP8xCKwck9g/IIcW2T6jCsDAoUW2344FwKBuEoM4+xdAPzVeuplqAUAQL90kgA4QwIBqvHSzXPk/gO18P8XB5D+hGi/dPNgCwKAaL904XQfAoMZLN6XzHcDhdr6f7mX/P2C8dJN09hXA/////9MQBMAAAAAAwLEDwACwcmgRR/y/wMqhRW5K9r9g5dAiM2ICwCDb+X7ixhHAgbx0k4j2/z+AQ4tsr5z/vwCq8dLNv9g/oMZLN4MPGsCgm8Qg5twAwKDGSzedQBrAGC/dJJ8MJcDfehSuGLgjwFDjpZsQnCHAoMZLNxk/H8DhehSui+wkwPzUeOlM8zHAAFCNlz788j8AAAAAGGrxPwBH4Xq0OdW/wPHSTaJj8z8gXrpJpLAMwMGhRbbTmv6/qcZLN9tCJ8BwaJHtbFMcwDBeukmQaRTAcGiR7bTDEcAA2c73UyHnv4CTGAS+Sfw/AAAAADR8GsBANV668Rv/P3Boke2+aRTAMF66SVivF8BxaJFtKv0owA==",
          "dtype": "f8"
         },
         "yaxis": "y4"
        },
        {
         "mode": "text",
         "showlegend": false,
         "text": [
          "-2.83",
          "-4.25",
          "-5.15",
          "-4.03",
          "-2.30"
         ],
         "textfont": {
          "color": "black",
          "family": "Arial",
          "size": 14
         },
         "textposition": "top center",
         "type": "scatter",
         "x": [
          "UNSAM_LC CN",
          "UNSAM_LC LC",
          "ADNI CN",
          "ADNI MCI",
          "ADNI AD"
         ],
         "xaxis": "x4",
         "y": [
          -2.8269960327148382,
          -4.246824737548828,
          -5.148210510253897,
          -4.034276000976554,
          -2.301418701171869
         ],
         "yaxis": "y4"
        },
        {
         "marker": {
          "color": "#495CD4"
         },
         "name": "UNSAM_LC CN",
         "showlegend": false,
         "type": "box",
         "xaxis": "x3",
         "y": {
          "bdata": "w8N7DixXIkB8AFKbOGkgQIDPDyOERxNAsCKjA5IwBsCET3PyImMkQMCTiPAvgvm/pNb7jXZ0IEAIA8+9h3sgQPHSTWIQmBxAoOV5cHfWBEBgkzXqIdoVQECJljyeVglABKT9D7AOIEC4GAPrOH4WQKAlyAioiC5AwcqhRbbz9j8wEqERbFwYQEDusfShi/O/QLqfU5Af8T90C12JQFUgwEC1+uqqsBzAoLDEA8rGGED/+iE2WJgGwKCkwAKY0hBAwOtsyD8z679gswdagaH3vx947j1cMvO/EDtT6Lz2E8Ch98YQAPwDwL/NVIhH4v0/vxt9zAeE87/A56T3ja/sv+BnXDgQkh5AkC0EOSjhBcAen8n+eVoPwGC0jqomSAnAiDYAGxAxFcCgC7H6IwwFQIC5Fi1A2w3AwGsJ+aAnDUCwGhL3WHoPwL9+wW7Ydv8/QK5/12eOBsDgXtIYrQMbQOj1J/G5yyHA",
          "dtype": "f8"
         },
         "yaxis": "y3"
        },
        {
         "marker": {
          "color": "#E2495E"
         },
         "name": "UNSAM_LC LC",
         "showlegend": false,
         "type": "box",
         "xaxis": "x3",
         "y": {
          "bdata": "vxRXlX1X/T8wrOKNzOMHQP8/pN++Du0/MOi9MQTABMDIdvcA3dccQHAqUmFsIQtA8cgfDDxXD0B/p4/AH37Tvzz4iQPo/zRAYGZmZmZm+r/wqzlAMOcRwEAhkEscufK/aLtCHyyDFMBg42w6AvgDwIDuA5DaxNu/gAcGED5UEkCIOnMPCe8QQCSwOQfPbCNAoF2+9WE9HMBgObTIdr4CQMA0t0JYTfs/vgaZZORs/r+RjNXm/7UPQEEd5PVgUu6/UODW3TxVB0BgesISD6j+vzjJj/gVsyBAEAaeew//IMBAX0GasegUQGC6SQwCqxvAKA6g3/fPFUB/ryE4LiMBQKD+7EeKyPa/34uhnGjX9T9gNjrnp/jyP5B9VwT/mxRAwJc0RutoB0CwXWiu0wgNQJ9IvhJIqQnAgBXD1QEQ3D8i88gfDPwPwDQ+k/3zVCVAUERN9PkIAkCIQ2/x8N4VQEBO0ZFcPglAkEQvo1hOE0BQRIZVvPEaQKgqNBDLHihAQD+MEB69GMDAN/jCZKrqP2BYcD/ggfY/wOMUHcllA0DIZ3ke3M0VQODmxvSEJQ5AQP5D+u3r5r8QtAJDVhcVQGAoYDsYkQxAf9GQ8SgV7j8QqtTsgeYXwEBUbw1sFfm/UDdQ4J2cA0DYd0Xwv6UZQECygAncmg1AZI16iEY/IEAAWB050vkPQAA+BitOlQhAAK358Zd2CUCHo6t0d3UiQIDGhQMhGQjAsPm4NlSMAkDQxDvAk1YMQHgrEhPUEBxAsAJDVre6DUAgxM4UOt8bQJ2Ugm4viSVA0MJlFTbjE0BwDWyVYLEJwBj5vOKppxNAgPJ376g5JkBIOPQWD+8XQGCowwq37BnACMpt+x79M0D4UQ37PREZQMBemiLA6QTAmALS/gf4E8AQFtwPeOAKwORJ0jWTzyFA4ThFR3L5/79Aox6i0R3rv4FzDTM0Hv+/OA2K5gFMEsDQhVj9EVYSQIgLeQQ3chtAwIGQLGACFkAIXvQVpOkeQFBVaCCWfRrAQFdbsb/8IEAwj/zBwLMBQKGf4jjwqve/sEuN0M/0CcCe3uF2aFj9P1hszOuIQxJAoC6Lic3HFEAwVTAqqRMDwBgwgVt3cxJAmJnS+lviFkDApDFaR9XyP0hL5e0IVxXAYDbIJCPnD8Ag3A94YMDzv8jIWdjTThDA8FAU6BP5DsBg4Ln3cAEjQADc8/xpwxRAIEesxafAAED0m0fF/x2pv8CnctpTcvO/H4E//Px3L8D+jNE6qprMvxgaTwRxjhTAENjV5CnLFkBQQBNhwzMbwAA+sOO/QNS/gMai6exk4z//BYTWw5fFP8CReeQPxg9AgODVcmem6L9g6UMX1FcKwOhCrP4IYxFAS0hrDDpxI8Ax0CfyJOkKQEBLkBFQ4f2/kBmojH9/FsDUPh2PGQgiQBCnBS/66glA8NCwGHU9FsBI8lzfh2MSwBDM0eP3Zh9A+NIUAU6PEcChE0IHXVInQABfCg+aXRBASBtHrMVHFEAgigJ9Is/zv2gibHh6BRdA0TB8REyJD0BUVz7L8xAjQICzzY3pCRZAwDeGAOCYDMAQ7Sqk/CQEwFC9bhEYKxLAUcHhBRHJI0BwADYgQtwUwHCk+s4vCgtA0BpK7UV0AEA4uRgD6/gaQEDa4hqfyeA/wTV39L88CUA=",
          "dtype": "f8"
         },
         "yaxis": "y3"
        },
        {
         "marker": {
          "color": "#223BE0"
         },
         "name": "ADNI CN",
         "showlegend": false,
         "type": "box",
         "xaxis": "x3",
         "y": {
          "bdata": "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",
          "dtype": "f8"
         },
         "yaxis": "y3"
        },
        {
         "marker": {
          "color": "red"
         },
         "name": "ADNI MCI",
         "showlegend": false,
         "type": "box",
         "xaxis": "x3",
         "y": {
          "bdata": "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",
          "dtype": "f8"
         },
         "yaxis": "y3"
        },
        {
         "marker": {
          "color": "#EE2F9B"
         },
         "name": "ADNI AD",
         "showlegend": false,
         "type": "box",
         "xaxis": "x3",
         "y": {
          "bdata": "uECC4sfoJ0Dgv7LSpHQVwBAjhEcbJxzAiE8BMJ4hLEDAiNLe4AsIQH/Swfo/x/4/EETdByAFFUBw1xLyQc8mwMBwkuaPqQFA/O/ErBdDuT+ASgfr//wFQGCPwvUo3APAYIYb8PkhC8AAJzEIrJzyvxDP2QJCixfAgBKB6h9E47+glSaloJsMQPCx9KELihbAIBk5C3t6EUBgukkMAvsTwBBc5QmEnR7A/j8YeO49wL9wcr9DUSAcQACD3bBtURBAQJCDEmaqEUDgkT8YeO4VwFHg1t081RHAoNqn4zHDD8CAJ0nXTL70P4Dk1TkGZOQ/gIBDqFIz8T+AjscMVMbxP0BgArfu5vU/n6RrJt+sBcAIyQImcPsgQDCs4o3MgyRAGNS3zOnSMcCAeEKvP4nsP0GDTZ1HRfs/YMJM279SCkAwCKwcWuQewEDw3Hu45ArAQIKN6991DMBg/PuMC+cTwHDzVIfcLBzAgHK/Q1Eg8z8gqRPQRBgAQAB/MPDce+w/wC6KHvgY8b8=",
          "dtype": "f8"
         },
         "yaxis": "y3"
        },
        {
         "mode": "text",
         "showlegend": false,
         "text": [
          "1.43",
          "2.25",
          "-5.01",
          "-3.96",
          "0.64"
         ],
         "textfont": {
          "color": "black",
          "family": "Arial",
          "size": 14
         },
         "textposition": "top center",
         "type": "scatter",
         "x": [
          "UNSAM_LC CN",
          "UNSAM_LC LC",
          "ADNI CN",
          "ADNI MCI",
          "ADNI AD"
         ],
         "xaxis": "x3",
         "y": [
          1.4345,
          2.254382999999997,
          -5.010800000000003,
          -3.958466000000002,
          0.6372099999999961
         ],
         "yaxis": "y3"
        },
        {
         "marker": {
          "color": "#495CD4"
         },
         "name": "UNSAM_LC CN",
         "showlegend": false,
         "type": "box",
         "xaxis": "x2",
         "y": {
          "bdata": "VACMZ9DQKECgD11Q37L2PwixM4XOyyBAXxMn9ztU+L/AlezYCET+v+BhTPp7aQnAwDaMguDx6b/YIJOMnIUaQGxzY3rCIhjAuNqK/WUHH8AfFw6EZIH0v39VvJF55Nc/AS4B+KdU779/bwwBwBEDwEDikA2kiwzAuCqJ7IOMGUAg0qjAydYKwL+9pDFax/4/OGxblNmQIMCAox03/I4DwMAVUKinj+q/wG2JXHAG5r9fvRjKiXYNQDkRNjy9MhvAgNkEGJa/B0DgN0w0SAEPQNiNPuYDEhTAUCl2NA61DsCEx7d3DfoiwFBPWOIBxQbAgA1Pr5Rl57/ocK32sDcTwGhgqwSLMxRAAANDVrd6yr9grtNIS2UCQLDSpBR0ewJAqOMxA5VRG8DIymjk84oRwIHF4cyvJv6/8FG4HoUrDUBAUG7b9+gHwCC4yhMI6xjAACrj32cc97+AriglBGvwv1CJJHoZxQbA",
          "dtype": "f8"
         },
         "yaxis": "y2"
        },
        {
         "marker": {
          "color": "#E2495E"
         },
         "name": "UNSAM_LC LC",
         "showlegend": false,
         "type": "box",
         "xaxis": "x2",
         "y": {
          "bdata": "AMKHEi05FMA/f6FHjN70v2DFG5lH/gtAnxPtKqT8/L/4l3fVA+apv6VOQBNhoyLA6N8u+3XHFUAA54wo7U0AQInS3uAL8wRAaNswCoJXHMBAI7w9CAHkvzg+k/3z1BLA4KBLOPSW9r+FtpxLcZUiwJDQCDauvwhAf8mpnWFq1r/AtkWZDTLpP9jHQ9/duhHAgIzyzMtBBkB/An0iT5LaP0BGeeblsAzA+iO05VyKqz+wF0M50Y4XwEDv4v24feA/YHfzVIe8GEDAGfz9YlYSwDBinwCKYR1AgFT7dDxm4r9g3lUPmMcCwHCPpQ9dQBDAf76ECg4v3D9waJHtfL8CwOCSjnIwG/M/gGtDxTh/6L/AJEBNLVvmvz9KXp1jwPM/gEj43t+g6z8gG4F4XX8AQP8EGJY/39i/wFcepKfI4L8A/ffgtasDQBl2GJP+DhnA0J9vC5aqCkBAqaENwEb6P9iUK7zLBR7AENKMRdO5EkC4GW7A54cTwADsEtVbA8m/IDyh15/kCcCQS+MXXgkIwH/ogY/Bit8//yGhLedSwL8wqRPQRFgdQDhNnx1wPRDA4La28LzkEkB/pKXydoTtv0CDonkAC+i/IQGjy5uDBkC/aMh4lMr8v9ACJnDrrgzAgINpGD4i0T8A/RTHgVfdP7BVgsXhbAZAKFMFo5L6HsCkm8QgsIIhwP+m6bMDLvE/wFVl3xUBAsDgtiizQSbwP+zw12SNCiBA3JOHhVpzIMAA4Qoo1PMEwMAQct7/RwdAgLeyRGeZ5j8g3J21224HwDhLyXISmhDAEHDP86fNBUD5l0BK7NqeP/S2mQrxGCPAgMADAwi/BEAAibSNP9Hov6C8yAT8uhDAiNf1C3bTH8BIy4EeaisTwJDlllZDIgXAIeo+AKnN8r8AlwD8U6oQwFhSJ6CJ0BTAAAQeGED4378Q+gs9YnQKQPuBVmDI6rI/Ab/Uz5sK+T8guMoTCNsUQBj7y+7J8xLAIKq3BrZKFkAI9fQR+GMXwHhvDAHAkRNAWApI+x8AE8AQXOUJhL0QwKhAZmfRuxLAICCYo8dvCMCQI9biU8AFwIBOCB10ORjAQZ/Ik6SrCUCgnpPeN371vzF9ryE4LgfA7E/icyfIHMDgGAKAY4/7P3A486s5AAHAQD+MEB7dFMBwzojS3qABwHhWC+wxoRFAAD/jwoEQ+z/QmuYdp6gCQOFiRQ2mgRTAINDSFWxj+D//ZvLNNjfaP6hh+IiYSiHAeEMaFTj5EsBQC170FQQOwADBkNWtnse/sAxxrIvbAMCwglFJncAIwIBFYKxvYNQ/COV9HM0xE8Dgxi3m50YKwODPYimSTwnAwNSWOsjrAEDwJY3ROuoRwCgpsACmzBfA4HU25J+ZGcBQJvxSPy8KQICkT6voj+S/aAOwARHCFcAsieyDLAsdwAAlzLT9q/g/EYEjgQabIsDQ/GoOEKwFwD9uv3yyEibA+Md71crkGcBvFygpsIAHwP6Zle1D3rK/8OSaApn9CcCgAbwFEjQSQKDDtdrD3gLAQHmRCfhVDcBA527XS5MOwKCJd4Anrfu/UJKumXwTEEAgea7vw0H9P4AXYB+duuU/fwPnjCjt2T8=",
          "dtype": "f8"
         },
         "yaxis": "y2"
        },
        {
         "marker": {
          "color": "#223BE0"
         },
         "name": "ADNI CN",
         "showlegend": false,
         "type": "box",
         "xaxis": "x2",
         "y": {
          "bdata": "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",
          "dtype": "f8"
         },
         "yaxis": "y2"
        },
        {
         "marker": {
          "color": "red"
         },
         "name": "ADNI MCI",
         "showlegend": false,
         "type": "box",
         "xaxis": "x2",
         "y": {
          "bdata": "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",
          "dtype": "f8"
         },
         "yaxis": "y2"
        },
        {
         "marker": {
          "color": "#EE2F9B"
         },
         "name": "ADNI AD",
         "showlegend": false,
         "type": "box",
         "xaxis": "x2",
         "y": {
          "bdata": "IU28AzxZI8B4KAr0iQQjQEC8rl+w2yHAyEEJM22/IUBY203wTYMhwCCpvvOLkiDAsDic+dWMIMDAE7NeDIUgQJBvtrkxDSBAYDbIJCPnHsBP7xtfe8YewAAd5ssL0B3AsIdodAexG0CAVwT/W1kawIAnZr0YqhlAYLUy4ZeaGUBwAz4/jPAXwIA97fDX1BfAwKQxWkfVFsBwhXe5iG8WwLDOMSB73RTAUaVmD7TSFMDAGW7A5ycUwDCJQWDlcBPAsAxxrItbE0CgnrDEA6oSQKAG0zB8RBJAwDZUjPP3EUDAPZY+dOERwGC+LsN/Og/A4FHVBFF3DsDhpj/7kSIOwOFqK/aXXQ3AQAOV8e9TDMBgpu1fWSkLwKDTZTGx+QhAYK5FC9D2CMCAH4DUJo4IwKD98zRgUAhAf3kB9tEpBMAfcsEZ/P0BQECphCf0egFAwKikTkBTAEAYEvdY+vAowNgbfGEylSbAH5268lm+JUAQN+Dzw2glwHCdRloqDyXAAFysqMG0+z8Ai6azk8H6v0DURJ+Psvq/wd7gC5Mp9b/AgOz17o/0P8D8ag4QDPO/wBmLprOT8r//YS0+BcDvv4BtUWaDTO4/gFwbKsb57b+AKO0NvjDqP4Ch8xq7ROM/AA1v1uB94b//bMX+snvevwCoHf6arNc//gtUxr/Pwj/6u2byzTa/vw==",
          "dtype": "f8"
         },
         "yaxis": "y2"
        },
        {
         "mode": "text",
         "showlegend": false,
         "text": [
          "-1.44",
          "-1.18",
          "-4.59",
          "-3.76",
          "-1.67"
         ],
         "textfont": {
          "color": "black",
          "family": "Arial",
          "size": 14
         },
         "textposition": "top center",
         "type": "scatter",
         "x": [
          "UNSAM_LC CN",
          "UNSAM_LC LC",
          "ADNI CN",
          "ADNI MCI",
          "ADNI AD"
         ],
         "xaxis": "x2",
         "y": [
          -1.4444349999999986,
          -1.17521,
          -4.587019999999995,
          -3.762039999999999,
          -1.6685939999999988
         ],
         "yaxis": "y2"
        },
        {
         "marker": {
          "color": "#495CD4"
         },
         "name": "UNSAM_LC CN",
         "showlegend": false,
         "type": "box",
         "xaxis": "x",
         "y": {
          "bdata": "wEg0gKlB8j8g1DBVY5UFwFCWSMXVXSZAyHfGJ3C9H8AAGVv34wTjP4C30Khbn/o/1K8oTbRIMECneXct6wcvQBAyQ5x0cAPAEFGBexgeFMBAAnbyXO8BQDG8h/5Y9yNAkBlJk1WVCkDgvBxorn/yv8s3z7GZKiJA0GTbQjJsK8Ao0bLv8bANwCSib1rjoyjAAE55cKZbD0AQOfrHe9sdwOSsQWuRTSLAMMowD4UFIkDNx5h9MnAkwKwTf0rhYyDAaMYF125IGcAob9n7BGEVwLTe3V9dHjLADISzsp3vK8BACUkIsrDzvzAgQ1VT0QfAsLqwIsczKcAoA9/CyOcfwMCli1Wqjfw/OGe5JHfxEcBAUZpw2d4uwHAImUkY9RjAYUcVWD8KD0Cwsfa+vG0WwOj9vKObfCLAMBjlPZsNAECk7osjZ+AhwDy7UPps3SrAQ1YjdEdzMsDAnJ+BJ1L3v4CYbw9FsRTA",
          "dtype": "f8"
         },
         "yaxis": "y"
        },
        {
         "marker": {
          "color": "#E2495E"
         },
         "name": "UNSAM_LC LC",
         "showlegend": false,
         "type": "box",
         "xaxis": "x",
         "y": {
          "bdata": "lGbkdSHXIECQ86iG/lUgQACxKgI09ANA8QdVxy0+BcB/wJso7IHev9EsIc8cmgbA2DhcvD0SGkAowBIjknoQwExilJivQiZAoF6NDjMHCEDgNnP9a04GwCgsPdqxOxbA1HuiX7UoOsAckHffh0gjwFhofstu1SHAgJ8v9uCUBEAAHBdD/e4EwHHu2EjlmitAIL0HFYzI9b8AhP1j2GHiv/6gfSbovME/CpoKKAo9MMDg/YqWkX//v3jB2GnE+y3Af7B4d/b41r/gxno0XkocwIBfAr9gx9Y/0NK1l9n3FsBANNUPFejnvw8r+nAaKTjAYAldTEem+r8/Cau/INgDwLDHiU+FxAtAcOTb+2B9DEAdaXRHqKcjwMCpkTYxgADAgN9FA0m14z9std16oQ8hQJwxD7Is+CTAoHGggyzgC8BhCMOavIf7P2DmNzOpfRdAgHSE09p2+L+InKQo07IZQDBFigoayADAvLigBrj3IcCwzz9dYEMmQEDM6ZTtCfM/kN6NVnDVHMAgSO8MPzQWQNgp/koJBS/AAMgKfrCD9j94pJpsXpoZQMBtzJ+Q7SbACK1gGih4LcBwOk0lZDsIQPDJr17OqQZA6L4hmJMMH8AAdhUi+fLkv2DfiT35GABAsK+afesODECghJ9OjoT5v3ASAvU60hNAgF/fEP/XFECgjEl3zXr1v1CtKLIcYRDAoKIECTEiH8BAx9foKMzgP4ikoQvAAhXAQH0NHZfZA8CoPcdfrxscwJCcbg2LBgpAoPXq3xOHAMAwN6WJ9G4CwPCoxk2q+xRAINr7OMtZB0DwIbrX7xwSQMBqxgKzces/0FGxsRMqHkBgB/0vhyQDwPBN2RHoJR/A0D3L3dK1KECAJ00LFnz9v8BFMa9HogTAOJdP1J/dI8DZr0w395EjQEF3Ric+7vi/cNKZILZ4AcDwSgGEdWgXQIHzimnkJQzAwRpdewzy9j/0t1PVJISlP3CtVD415wBAAKqF225sEMAAzBExBx4QQPQT0wiPQC3A1T0lSBtOLEBEBDDP+A0jQADUH7GGK+M/GECqdBPHJcCxVj+OQ8UTwIhqw7/Gnx5A8HtLd4pqAkBQTOvpTpkhwOU3beFdyivAsKsDQgjpCsDAHWamCjn2P2jMtlgQkhrAXHTy1ZloMMAAC9snB2QhwANCztEeLSvAAMQ/Z1oSEsCwo0tBI4oTQFXBOx9EKjxAAFqq1EW+DsAo/DdoUR0UwEjTvmqp1CDAucSVvxcyFMDwe1k7rj8ZQGBFHDCP8x7Af/RdK6ArI8ChYbKYCCQlwNAORGQwfxPASJz9zMO2HUAAG9QgICzkv8CTTfiam+a/lc2N1QniMsB4WWEWwBQmwAD8LeqVmtC/MJMz1SIpEcBw5c744hwKwDAUZkEUKzTAhHlWTgWbIcAotc6b4t0nQLBwu/SguAfAnMZKcHUPIcCor3fyH+ccwHDsb28ReQlAZNCnQ1PWIsBIcdL0rYEVQACL+AeR+dQ/zEbqWdUQJ8BQxWYLx28dwPoZ0x4svrM/eJ5VWfJnEcD+byVe42rBv+GUk2UGuvi/CGQdrcGgHcAc/Yr4cX8gwOgb7Kp9GBTAUEbFCgaoBkAACTw9WD7mv/2961ADb8M/2DQOFPALLsAAZCYueUX2P2i6DAAcdCHA4bLc3S138r8=",
          "dtype": "f8"
         },
         "yaxis": "y"
        },
        {
         "marker": {
          "color": "#223BE0"
         },
         "name": "ADNI CN",
         "showlegend": false,
         "type": "box",
         "xaxis": "x",
         "y": {
          "bdata": "3F0p0kh/LcCAa1crEFIEwLCUiir9OxpACA7v+AH2FsAAp8ts3u8owDDyoUofvRPAwH/n2pPtKMAAwi30lJHIPxD98eBRmh7AWFKI2yjxKsAQvj58Df4cwABDO+Z3rOO/BZ03SBkKOsDg4EBBo1syQKBT/dv6ghHAAC5cwg4R9j/7L9p1FdiyP7wNWdQn9SzAoOrq4/t/HMCAnlVzYR0FwHC3FFlYMhvAiOYg7nqmI8A0dxXLvuAxwAg5TbIJtiDAYO/l8OroBcBP5NJyh1A9wDj/wrv+qRbAQCPv1EsKK8C7PkVhhLQ3wBBc1d636zvAZ+YxSZFoL8AA8lbWkJgRwEgFIk8aFjHAaAX/SkVvJ8D3XSVACTQtwMTp62bHQDDAUBDyxzeyFMBstU8zuL0nwGhIrB31KCzA/xuQlT5z3r/k2dqgwncvwFjxFnhVWyDA3qWe30JdMMCrb2ZKHCEkwEAnMLPt1Q3A55YhHuBVK8AmZjRsMy41wPJuSmzECDPAaAvuq7ysMcBykiSqODEwwGp81AAqSTTAuaGVAUAaLMBY71OUwqwuwNBrCtSHEirAEC2OpQ0BHMDPF5LS3X0jwPDlpZlvRxDAgDAOdxcGFMAMB+xJeEw1wOABIi22SyjAACfsPpaKMsAWCAJfFa41wMgOYwaFRSXAHITFu5bOMcAYkz2CfbklwFSO02U9yTPAsFFGG0jFG8BPl1ZP1OY7wGyS1CH7VjTAwOrNLntXF8BEGS9h7vUwwJahkhQk1jzAWMjfARyQKcCoti85wpsxwLgfV6vwkD3AwMesA4jHFsAg+gc/AyIawHB2EyTNLS3ACJNlxjGuIsDXs1XadWU0wJyT2fA6HjTA6B20DGbOM8DAcBKOpGsrwABwlXRkxinAUBCIfGqeM8DQ6k5xoW0kwAA5x6qeKTHAkHgwuTH9KsAgJQZALjEwwPCRC8zaGyjAMCIe74GXM8At8gFyDt5AwCRcnn+PRzbAKJhbCt4DMcAYPXYhw841wOg59ASMDjLAmB5vethoQcA=",
          "dtype": "f8"
         },
         "yaxis": "y"
        },
        {
         "marker": {
          "color": "red"
         },
         "name": "ADNI MCI",
         "showlegend": false,
         "type": "box",
         "xaxis": "x",
         "y": {
          "bdata": "oBhTR4lbFsBwObJ+ADwqwPCDI2ELTDPAcP6xiEYAEkAQDrRQpLQHwJB5YocyrhHAWB+C9w9PI0BAxb3woxEIQNCHYPUqWi5AKLkIupq+HcBYrKidQJMowECJUmdkMPI/aHE1mE7TNECAofPNUuoTQCBXBB9Xay3AyBonGkJ/FcCvvuKZHbknwCAFZgGEvTDAJAyd1QOxLMBQwAZQURofwCxSIWlkbS3AmImE52m4GMDULnkRx4cpwCAXDQuSrwrAbPPY+ibSJcAjnA6anX0pwFU/n8tLASPAQBQwyQkzDMCwsYbRhy4awAheeV5MBh3AYBEHWcuCGMCk1qK7ovEgwLhBzR8ugitAeEcsW6o5JMA8KPD1gTAmwIi1LrlEsyHArKHKdW5EI8D/F+/j14zDvwfNkan3TiTAADObUWvX77/4PkeC/IshwMgFnVu23zXAsjE0zNlgMcCU4zhWDW80wAAYPZUlzQlADH3kh9ORLsD/HJ9TiaPZPxwbI9a0xzTAcYRvSiP5M8AHLA6UqEAnwFiZEHlGSTfAFB4fptYEL8ABDKTavP0GwCAWy/xw0THA26RR5+D/NcCMZ1Ok+9Y0wLAhBy+I9ivAQLVsYfEHBMCglKC5D2cawHYtdQonLzfAIX7ZM5whNsDsFY0JA303wO+a34LISzjAcO2NA19TLsAYto+wCcAjwFBXmmNoqSHAoK2meBv/EcCh+5TyZn8vwIjbp3QHBSfAcOQuVW7MF8DBmG2KZf78vxGIGbPziTXAjswlJl2fO8DAVG8pl4gzwKAJ3yORDDXA3H9VlsEldb/VuQ5BSU9BwCC2eNm1+SLAAAkMZTxCIMCo3pgp9YY3wEiumZZoYzHA4GG/prlJJcAgGD06tFYxwJWUdpgC8TTAQZs8ecH1KsDgXVyDIOU2wPCuRDvD8SfAQBxRhBnxMcAc4YuhE7Q1wPD330EBfzbAEDdm/3KUKsCoQcoAzf8vwByx1CDhAT3A",
          "dtype": "f8"
         },
         "yaxis": "y"
        },
        {
         "marker": {
          "color": "#EE2F9B"
         },
         "name": "ADNI AD",
         "showlegend": false,
         "type": "box",
         "xaxis": "x",
         "y": {
          "bdata": "KH0pegfQJkCAl0tbZxgTwABg97U7OxnA",
          "dtype": "f8"
         },
         "yaxis": "y"
        },
        {
         "mode": "text",
         "showlegend": false,
         "text": [
          "-4.49",
          "-1.84",
          "-13.52",
          "-11.63",
          "-4.77"
         ],
         "textfont": {
          "color": "black",
          "family": "Arial",
          "size": 14
         },
         "textposition": "top center",
         "type": "scatter",
         "x": [
          "UNSAM_LC CN",
          "UNSAM_LC LC",
          "ADNI CN",
          "ADNI MCI",
          "ADNI AD"
         ],
         "xaxis": "x",
         "y": [
          -4.485806058708299,
          -1.842794460435897,
          -13.520109800521482,
          -11.6262861506748,
          -4.77383177422405
         ],
         "yaxis": "y"
        }
       ],
       "layout": {
        "annotations": [
         {
          "font": {
           "size": 20
          },
          "showarrow": false,
          "text": "ENIGMA",
          "x": 0.245,
          "xanchor": "center",
          "xref": "paper",
          "y": 1,
          "yanchor": "bottom",
          "yref": "paper"
         },
         {
          "font": {
           "size": 20
          },
          "showarrow": false,
          "text": "Pyment",
          "x": 0.755,
          "xanchor": "center",
          "xref": "paper",
          "y": 1,
          "yanchor": "bottom",
          "yref": "paper"
         },
         {
          "font": {
           "size": 20
          },
          "showarrow": false,
          "text": "DeepBrainNet",
          "x": 0.245,
          "xanchor": "center",
          "xref": "paper",
          "y": 0.48,
          "yanchor": "bottom",
          "yref": "paper"
         },
         {
          "font": {
           "size": 20
          },
          "showarrow": false,
          "text": "BrainAgeNeXt",
          "x": 0.755,
          "xanchor": "center",
          "xref": "paper",
          "y": 0.48,
          "yanchor": "bottom",
          "yref": "paper"
         },
         {
          "font": {
           "color": "black",
           "size": 14
          },
          "showarrow": false,
          "text": "UNSAM_LC",
          "x": 0.1,
          "xref": "x domain",
          "y": -32,
          "yref": "y"
         },
         {
          "font": {
           "color": "black",
           "size": 14
          },
          "showarrow": false,
          "text": "ADNI",
          "x": 0.75,
          "xref": "x domain",
          "y": -32,
          "yref": "y"
         },
         {
          "font": {
           "color": "black",
           "size": 14
          },
          "showarrow": false,
          "text": "UNSAM_LC",
          "x": 0.1,
          "xref": "x2 domain",
          "y": -32,
          "yref": "y2"
         },
         {
          "font": {
           "color": "black",
           "size": 14
          },
          "showarrow": false,
          "text": "ADNI",
          "x": 0.75,
          "xref": "x2 domain",
          "y": -32,
          "yref": "y2"
         },
         {
          "font": {
           "color": "black",
           "size": 14
          },
          "showarrow": false,
          "text": "UNSAM_LC",
          "x": 0.1,
          "xref": "x3 domain",
          "y": -32,
          "yref": "y3"
         },
         {
          "font": {
           "color": "black",
           "size": 14
          },
          "showarrow": false,
          "text": "ADNI",
          "x": 0.75,
          "xref": "x3 domain",
          "y": -32,
          "yref": "y3"
         },
         {
          "font": {
           "color": "black",
           "size": 14
          },
          "showarrow": false,
          "text": "UNSAM_LC",
          "x": 0.1,
          "xref": "x4 domain",
          "y": -32,
          "yref": "y4"
         },
         {
          "font": {
           "color": "black",
           "size": 14
          },
          "showarrow": false,
          "text": "ADNI",
          "x": 0.75,
          "xref": "x4 domain",
          "y": -32,
          "yref": "y4"
         }
        ],
        "height": 800,
        "margin": {
         "b": 20,
         "l": 20,
         "r": 20,
         "t": 40
        },
        "paper_bgcolor": "white",
        "plot_bgcolor": "white",
        "template": {
         "data": {
          "bar": [
           {
            "error_x": {
             "color": "#2a3f5f"
            },
            "error_y": {
             "color": "#2a3f5f"
            },
            "marker": {
             "line": {
              "color": "#E5ECF6",
              "width": 0.5
             },
             "pattern": {
              "fillmode": "overlay",
              "size": 10,
              "solidity": 0.2
             }
            },
            "type": "bar"
           }
          ],
          "barpolar": [
           {
            "marker": {
             "line": {
              "color": "#E5ECF6",
              "width": 0.5
             },
             "pattern": {
              "fillmode": "overlay",
              "size": 10,
              "solidity": 0.2
             }
            },
            "type": "barpolar"
           }
          ],
          "carpet": [
           {
            "aaxis": {
             "endlinecolor": "#2a3f5f",
             "gridcolor": "white",
             "linecolor": "white",
             "minorgridcolor": "white",
             "startlinecolor": "#2a3f5f"
            },
            "baxis": {
             "endlinecolor": "#2a3f5f",
             "gridcolor": "white",
             "linecolor": "white",
             "minorgridcolor": "white",
             "startlinecolor": "#2a3f5f"
            },
            "type": "carpet"
           }
          ],
          "choropleth": [
           {
            "colorbar": {
             "outlinewidth": 0,
             "ticks": ""
            },
            "type": "choropleth"
           }
          ],
          "contour": [
           {
            "colorbar": {
             "outlinewidth": 0,
             "ticks": ""
            },
            "colorscale": [
             [
              0,
              "#0d0887"
             ],
             [
              0.1111111111111111,
              "#46039f"
             ],
             [
              0.2222222222222222,
              "#7201a8"
             ],
             [
              0.3333333333333333,
              "#9c179e"
             ],
             [
              0.4444444444444444,
              "#bd3786"
             ],
             [
              0.5555555555555556,
              "#d8576b"
             ],
             [
              0.6666666666666666,
              "#ed7953"
             ],
             [
              0.7777777777777778,
              "#fb9f3a"
             ],
             [
              0.8888888888888888,
              "#fdca26"
             ],
             [
              1,
              "#f0f921"
             ]
            ],
            "type": "contour"
           }
          ],
          "contourcarpet": [
           {
            "colorbar": {
             "outlinewidth": 0,
             "ticks": ""
            },
            "type": "contourcarpet"
           }
          ],
          "heatmap": [
           {
            "colorbar": {
             "outlinewidth": 0,
             "ticks": ""
            },
            "colorscale": [
             [
              0,
              "#0d0887"
             ],
             [
              0.1111111111111111,
              "#46039f"
             ],
             [
              0.2222222222222222,
              "#7201a8"
             ],
             [
              0.3333333333333333,
              "#9c179e"
             ],
             [
              0.4444444444444444,
              "#bd3786"
             ],
             [
              0.5555555555555556,
              "#d8576b"
             ],
             [
              0.6666666666666666,
              "#ed7953"
             ],
             [
              0.7777777777777778,
              "#fb9f3a"
             ],
             [
              0.8888888888888888,
              "#fdca26"
             ],
             [
              1,
              "#f0f921"
             ]
            ],
            "type": "heatmap"
           }
          ],
          "histogram": [
           {
            "marker": {
             "pattern": {
              "fillmode": "overlay",
              "size": 10,
              "solidity": 0.2
             }
            },
            "type": "histogram"
           }
          ],
          "histogram2d": [
           {
            "colorbar": {
             "outlinewidth": 0,
             "ticks": ""
            },
            "colorscale": [
             [
              0,
              "#0d0887"
             ],
             [
              0.1111111111111111,
              "#46039f"
             ],
             [
              0.2222222222222222,
              "#7201a8"
             ],
             [
              0.3333333333333333,
              "#9c179e"
             ],
             [
              0.4444444444444444,
              "#bd3786"
             ],
             [
              0.5555555555555556,
              "#d8576b"
             ],
             [
              0.6666666666666666,
              "#ed7953"
             ],
             [
              0.7777777777777778,
              "#fb9f3a"
             ],
             [
              0.8888888888888888,
              "#fdca26"
             ],
             [
              1,
              "#f0f921"
             ]
            ],
            "type": "histogram2d"
           }
          ],
          "histogram2dcontour": [
           {
            "colorbar": {
             "outlinewidth": 0,
             "ticks": ""
            },
            "colorscale": [
             [
              0,
              "#0d0887"
             ],
             [
              0.1111111111111111,
              "#46039f"
             ],
             [
              0.2222222222222222,
              "#7201a8"
             ],
             [
              0.3333333333333333,
              "#9c179e"
             ],
             [
              0.4444444444444444,
              "#bd3786"
             ],
             [
              0.5555555555555556,
              "#d8576b"
             ],
             [
              0.6666666666666666,
              "#ed7953"
             ],
             [
              0.7777777777777778,
              "#fb9f3a"
             ],
             [
              0.8888888888888888,
              "#fdca26"
             ],
             [
              1,
              "#f0f921"
             ]
            ],
            "type": "histogram2dcontour"
           }
          ],
          "mesh3d": [
           {
            "colorbar": {
             "outlinewidth": 0,
             "ticks": ""
            },
            "type": "mesh3d"
           }
          ],
          "parcoords": [
           {
            "line": {
             "colorbar": {
              "outlinewidth": 0,
              "ticks": ""
             }
            },
            "type": "parcoords"
           }
          ],
          "pie": [
           {
            "automargin": true,
            "type": "pie"
           }
          ],
          "scatter": [
           {
            "fillpattern": {
             "fillmode": "overlay",
             "size": 10,
             "solidity": 0.2
            },
            "type": "scatter"
           }
          ],
          "scatter3d": [
           {
            "line": {
             "colorbar": {
              "outlinewidth": 0,
              "ticks": ""
             }
            },
            "marker": {
             "colorbar": {
              "outlinewidth": 0,
              "ticks": ""
             }
            },
            "type": "scatter3d"
           }
          ],
          "scattercarpet": [
           {
            "marker": {
             "colorbar": {
              "outlinewidth": 0,
              "ticks": ""
             }
            },
            "type": "scattercarpet"
           }
          ],
          "scattergeo": [
           {
            "marker": {
             "colorbar": {
              "outlinewidth": 0,
              "ticks": ""
             }
            },
            "type": "scattergeo"
           }
          ],
          "scattergl": [
           {
            "marker": {
             "colorbar": {
              "outlinewidth": 0,
              "ticks": ""
             }
            },
            "type": "scattergl"
           }
          ],
          "scattermap": [
           {
            "marker": {
             "colorbar": {
              "outlinewidth": 0,
              "ticks": ""
             }
            },
            "type": "scattermap"
           }
          ],
          "scattermapbox": [
           {
            "marker": {
             "colorbar": {
              "outlinewidth": 0,
              "ticks": ""
             }
            },
            "type": "scattermapbox"
           }
          ],
          "scatterpolar": [
           {
            "marker": {
             "colorbar": {
              "outlinewidth": 0,
              "ticks": ""
             }
            },
            "type": "scatterpolar"
           }
          ],
          "scatterpolargl": [
           {
            "marker": {
             "colorbar": {
              "outlinewidth": 0,
              "ticks": ""
             }
            },
            "type": "scatterpolargl"
           }
          ],
          "scatterternary": [
           {
            "marker": {
             "colorbar": {
              "outlinewidth": 0,
              "ticks": ""
             }
            },
            "type": "scatterternary"
           }
          ],
          "surface": [
           {
            "colorbar": {
             "outlinewidth": 0,
             "ticks": ""
            },
            "colorscale": [
             [
              0,
              "#0d0887"
             ],
             [
              0.1111111111111111,
              "#46039f"
             ],
             [
              0.2222222222222222,
              "#7201a8"
             ],
             [
              0.3333333333333333,
              "#9c179e"
             ],
             [
              0.4444444444444444,
              "#bd3786"
             ],
             [
              0.5555555555555556,
              "#d8576b"
             ],
             [
              0.6666666666666666,
              "#ed7953"
             ],
             [
              0.7777777777777778,
              "#fb9f3a"
             ],
             [
              0.8888888888888888,
              "#fdca26"
             ],
             [
              1,
              "#f0f921"
             ]
            ],
            "type": "surface"
           }
          ],
          "table": [
           {
            "cells": {
             "fill": {
              "color": "#EBF0F8"
             },
             "line": {
              "color": "white"
             }
            },
            "header": {
             "fill": {
              "color": "#C8D4E3"
             },
             "line": {
              "color": "white"
             }
            },
            "type": "table"
           }
          ]
         },
         "layout": {
          "annotationdefaults": {
           "arrowcolor": "#2a3f5f",
           "arrowhead": 0,
           "arrowwidth": 1
          },
          "autotypenumbers": "strict",
          "coloraxis": {
           "colorbar": {
            "outlinewidth": 0,
            "ticks": ""
           }
          },
          "colorscale": {
           "diverging": [
            [
             0,
             "#8e0152"
            ],
            [
             0.1,
             "#c51b7d"
            ],
            [
             0.2,
             "#de77ae"
            ],
            [
             0.3,
             "#f1b6da"
            ],
            [
             0.4,
             "#fde0ef"
            ],
            [
             0.5,
             "#f7f7f7"
            ],
            [
             0.6,
             "#e6f5d0"
            ],
            [
             0.7,
             "#b8e186"
            ],
            [
             0.8,
             "#7fbc41"
            ],
            [
             0.9,
             "#4d9221"
            ],
            [
             1,
             "#276419"
            ]
           ],
           "sequential": [
            [
             0,
             "#0d0887"
            ],
            [
             0.1111111111111111,
             "#46039f"
            ],
            [
             0.2222222222222222,
             "#7201a8"
            ],
            [
             0.3333333333333333,
             "#9c179e"
            ],
            [
             0.4444444444444444,
             "#bd3786"
            ],
            [
             0.5555555555555556,
             "#d8576b"
            ],
            [
             0.6666666666666666,
             "#ed7953"
            ],
            [
             0.7777777777777778,
             "#fb9f3a"
            ],
            [
             0.8888888888888888,
             "#fdca26"
            ],
            [
             1,
             "#f0f921"
            ]
           ],
           "sequentialminus": [
            [
             0,
             "#0d0887"
            ],
            [
             0.1111111111111111,
             "#46039f"
            ],
            [
             0.2222222222222222,
             "#7201a8"
            ],
            [
             0.3333333333333333,
             "#9c179e"
            ],
            [
             0.4444444444444444,
             "#bd3786"
            ],
            [
             0.5555555555555556,
             "#d8576b"
            ],
            [
             0.6666666666666666,
             "#ed7953"
            ],
            [
             0.7777777777777778,
             "#fb9f3a"
            ],
            [
             0.8888888888888888,
             "#fdca26"
            ],
            [
             1,
             "#f0f921"
            ]
           ]
          },
          "colorway": [
           "#636efa",
           "#EF553B",
           "#00cc96",
           "#ab63fa",
           "#FFA15A",
           "#19d3f3",
           "#FF6692",
           "#B6E880",
           "#FF97FF",
           "#FECB52"
          ],
          "font": {
           "color": "#2a3f5f"
          },
          "geo": {
           "bgcolor": "white",
           "lakecolor": "white",
           "landcolor": "#E5ECF6",
           "showlakes": true,
           "showland": true,
           "subunitcolor": "white"
          },
          "hoverlabel": {
           "align": "left"
          },
          "hovermode": "closest",
          "mapbox": {
           "style": "light"
          },
          "paper_bgcolor": "white",
          "plot_bgcolor": "#E5ECF6",
          "polar": {
           "angularaxis": {
            "gridcolor": "white",
            "linecolor": "white",
            "ticks": ""
           },
           "bgcolor": "#E5ECF6",
           "radialaxis": {
            "gridcolor": "white",
            "linecolor": "white",
            "ticks": ""
           }
          },
          "scene": {
           "xaxis": {
            "backgroundcolor": "#E5ECF6",
            "gridcolor": "white",
            "gridwidth": 2,
            "linecolor": "white",
            "showbackground": true,
            "ticks": "",
            "zerolinecolor": "white"
           },
           "yaxis": {
            "backgroundcolor": "#E5ECF6",
            "gridcolor": "white",
            "gridwidth": 2,
            "linecolor": "white",
            "showbackground": true,
            "ticks": "",
            "zerolinecolor": "white"
           },
           "zaxis": {
            "backgroundcolor": "#E5ECF6",
            "gridcolor": "white",
            "gridwidth": 2,
            "linecolor": "white",
            "showbackground": true,
            "ticks": "",
            "zerolinecolor": "white"
           }
          },
          "shapedefaults": {
           "line": {
            "color": "#2a3f5f"
           }
          },
          "ternary": {
           "aaxis": {
            "gridcolor": "white",
            "linecolor": "white",
            "ticks": ""
           },
           "baxis": {
            "gridcolor": "white",
            "linecolor": "white",
            "ticks": ""
           },
           "bgcolor": "#E5ECF6",
           "caxis": {
            "gridcolor": "white",
            "linecolor": "white",
            "ticks": ""
           }
          },
          "title": {
           "x": 0.05
          },
          "xaxis": {
           "automargin": true,
           "gridcolor": "white",
           "linecolor": "white",
           "ticks": "",
           "title": {
            "standoff": 15
           },
           "zerolinecolor": "white",
           "zerolinewidth": 2
          },
          "yaxis": {
           "automargin": true,
           "gridcolor": "white",
           "linecolor": "white",
           "ticks": "",
           "title": {
            "standoff": 15
           },
           "zerolinecolor": "white",
           "zerolinewidth": 2
          }
         }
        },
        "width": 1000,
        "xaxis": {
         "anchor": "y",
         "domain": [
          0,
          0.49
         ],
         "showticklabels": false
        },
        "xaxis2": {
         "anchor": "y2",
         "domain": [
          0.51,
          1
         ],
         "showticklabels": false
        },
        "xaxis3": {
         "anchor": "y3",
         "domain": [
          0,
          0.49
         ],
         "showticklabels": false
        },
        "xaxis4": {
         "anchor": "y4",
         "domain": [
          0.51,
          1
         ],
         "showticklabels": false
        },
        "yaxis": {
         "anchor": "x",
         "domain": [
          0.52,
          1
         ],
         "gridcolor": "grey",
         "gridwidth": 1,
         "range": [
          -35,
          25
         ],
         "showgrid": true,
         "zeroline": false
        },
        "yaxis2": {
         "anchor": "x2",
         "domain": [
          0.52,
          1
         ],
         "gridcolor": "grey",
         "gridwidth": 1,
         "range": [
          -35,
          25
         ],
         "showgrid": true,
         "zeroline": false
        },
        "yaxis3": {
         "anchor": "x3",
         "domain": [
          0,
          0.48
         ],
         "gridcolor": "grey",
         "gridwidth": 1,
         "range": [
          -35,
          25
         ],
         "showgrid": true,
         "zeroline": false
        },
        "yaxis4": {
         "anchor": "x4",
         "domain": [
          0,
          0.48
         ],
         "gridcolor": "grey",
         "gridwidth": 1,
         "range": [
          -35,
          25
         ],
         "showgrid": true,
         "zeroline": false
        }
       }
      }
     },
     "metadata": {},
     "output_type": "display_data"
    }
   ],
   "source": [
    "# Crear figura con subplots 2x2\n",
    "fig = make_subplots(rows=2, cols=2, \n",
    "                    subplot_titles=(\"ENIGMA\", \"Pyment\", \"DeepBrainNet\", \"BrainAgeNeXt\"),\n",
    "                    horizontal_spacing=0.02,   # Espacio entre columnas\n",
    "                    vertical_spacing=0.04 )\n",
    "\n",
    "# Aumentar el tamaño del texto de los títulos de los subplots\n",
    "fig.update_annotations(font=dict(size=20))  # o 18, 20, etc.\n",
    "\n",
    "#calculo de todas las medianas\n",
    "median_BAN_CP_CN = BAN_CP[BAN_CP['Grupo']=='CONTROL']['Error'].median()\n",
    "median_BAN_CP_LC = BAN_CP[BAN_CP['Grupo']=='COVID']['Error'].median()\n",
    "median_BAN_ADNI_CN = BAN_ADNI[BAN_ADNI['Group']=='CN']['Error'].median()\n",
    "median_BAN_ADNI_MCI= BAN_ADNI[(BAN_ADNI['Group']!='CN') & (BAN_ADNI['Group']!='AD')]['Error'].median()\n",
    "median_BAN_ADNI_AD = BAN_ADNI[BAN_ADNI['Group']=='AD']['Error'].median()\n",
    "\n",
    "median_DBN_CP_CN = DBN_CP[DBN_CP['Grupo']=='CONTROL']['Error'].median()\n",
    "median_DBN_CP_LC = DBN_CP[DBN_CP['Grupo']=='COVID']['Error'].median()\n",
    "median_DBN_ADNI_CN = DBN_ADNI[DBN_ADNI['Group']=='CN']['Error'].median()\n",
    "median_DBN_ADNI_MCI = DBN_ADNI[(DBN_ADNI['Group']!='CN') & (DBN_ADNI['Group']!='AD')]['Error'].median()\n",
    "median_DBN_ADNI_AD = DBN_ADNI[DBN_ADNI['Group']=='AD']['Error'].median()\n",
    "\n",
    "median_pyment_CP_CN = pyment_CP[pyment_CP['Grupo']=='CONTROL']['Error'].median()\n",
    "median_pyment_CP_LC = pyment_CP[pyment_CP['Grupo']=='COVID']['Error'].median()\n",
    "median_pyment_ADNI_CN = pyment_ADNI[pyment_ADNI['Group']=='CN']['Error'].median()\n",
    "median_pyment_ADNI_MCI = pyment_ADNI[(pyment_ADNI['Group']!='CN') & (pyment_ADNI['Group']!='AD')]['Error'].median()\n",
    "median_pyment_ADNI_AD = pyment_ADNI[pyment_ADNI['Group']=='AD']['Error'].median()\n",
    "\n",
    "median_ENIGMA_CP_CN = ENIGMA_CP[ENIGMA_CP['Grupo']=='CONTROL']['Error'].median()\n",
    "median_ENIGMA_CP_LC = ENIGMA_CP[ENIGMA_CP['Grupo']=='COVID']['Error'].median()\n",
    "median_ENIGMA_ADNI_CN = ENIGMA_ADNI[ENIGMA_ADNI['Group']==\"CN\"]['Error'].median()\n",
    "median_ENIGMA_ADNI_MCI = ENIGMA_ADNI[(ENIGMA_ADNI['Group']!='CN') & (ENIGMA_ADNI['Group']!='AD')]['Error'].median()\n",
    "median_ENIGMA_ADNI_AD = ENIGMA_ADNI[ENIGMA_ADNI['Group']=='AD']['Error'].median()\n",
    "\n",
    "# --- BAN ---\n",
    "fig.add_trace(go.Box(y=BAN_CP[BAN_CP['Grupo']=='CONTROL']['Error'], name=\"UNSAM_LC CN\", marker_color=\"#495CD4\"), row=2, col=2)\n",
    "fig.add_trace(go.Box(y=BAN_CP[BAN_CP['Grupo']=='COVID']['Error'], name=\"UNSAM_LC LC\", marker_color='#E2495E'), row=2, col=2)\n",
    "fig.add_trace(go.Box(y=BAN_ADNI[BAN_ADNI['Group']=='CN']['Error'], name=\"ADNI CN\", marker_color='#223BE0'), row=2, col=2)\n",
    "fig.add_trace(go.Box(y=BAN_ADNI[(BAN_ADNI['Group']!='CN') & (BAN_ADNI['Group']!='AD')]['Error'], name=\"ADNI MCI\", marker_color='red'), row=2, col=2)\n",
    "fig.add_trace(go.Box(y=BAN_ADNI[BAN_ADNI['Group']=='AD']['Error'], name=\"ADNI AD\", marker_color='#EE2F9B'), row=2, col=2)\n",
    "\n",
    "# Agregar medianas como anotaciones\n",
    "fig.add_trace(go.Scatter(\n",
    "    x=[\"UNSAM_LC CN\", \"UNSAM_LC LC\", \"ADNI CN\", \"ADNI MCI\", \"ADNI AD\"],\n",
    "    y=[median_BAN_CP_CN, median_BAN_CP_LC, median_BAN_ADNI_CN, median_BAN_ADNI_MCI, median_BAN_ADNI_AD],\n",
    "    mode=\"text\",\n",
    "    text=[f\"{median_BAN_CP_CN:.2f}\", f\"{median_BAN_CP_LC:.2f}\", f\"{median_BAN_ADNI_CN:.2f}\", f\"{median_BAN_ADNI_MCI:.2f}\", f\"{median_BAN_ADNI_AD:.2f}\"],\n",
    "    textposition=\"top center\",\n",
    "    textfont=dict(\n",
    "            color='black',\n",
    "            size=14,\n",
    "            family='Arial'\n",
    "        ),\n",
    "    showlegend=False\n",
    "), row=2, col=2)\n",
    "\n",
    "# --- DBN ---\n",
    "fig.add_trace(go.Box(y=DBN_CP[DBN_CP['Grupo']=='CONTROL']['Error'], name=\"UNSAM_LC CN\", marker_color='#495CD4', showlegend=False), row=2, col=1)\n",
    "fig.add_trace(go.Box(y=DBN_CP[DBN_CP['Grupo']!='CONTROL']['Error'], name=\"UNSAM_LC LC\", marker_color='#E2495E', showlegend=False), row=2, col=1)\n",
    "fig.add_trace(go.Box(y=DBN_ADNI[DBN_ADNI['Group']=='CN']['Error'], name=\"ADNI CN\", marker_color='#223BE0', showlegend=False), row=2, col=1)\n",
    "fig.add_trace(go.Box(y=DBN_ADNI[(DBN_ADNI['Group']!='CN') & (DBN_ADNI['Group']!='AD')]['Error'], name=\"ADNI MCI\", marker_color='red', showlegend=False), row=2, col=1)\n",
    "fig.add_trace(go.Box(y=DBN_ADNI[DBN_ADNI['Group']=='AD']['Error'], name=\"ADNI AD\", marker_color='#EE2F9B', showlegend=False), row=2, col=1)\n",
    "\n",
    "# Agregar medianas como anotaciones\n",
    "fig.add_trace(go.Scatter(\n",
    "    x=[\"UNSAM_LC CN\", \"UNSAM_LC LC\", \"ADNI CN\", \"ADNI MCI\", \"ADNI AD\"],\n",
    "    y=[median_DBN_CP_CN, median_DBN_CP_LC, median_DBN_ADNI_CN, median_DBN_ADNI_MCI, median_DBN_ADNI_AD],\n",
    "    mode=\"text\",\n",
    "    text=[f\"{median_DBN_CP_CN:.2f}\", f\"{median_DBN_CP_LC:.2f}\", f\"{median_DBN_ADNI_CN:.2f}\", f\"{median_DBN_ADNI_MCI:.2f}\", f\"{median_DBN_ADNI_AD:.2f}\"],\n",
    "    textposition=\"top center\",\n",
    "    textfont=dict(\n",
    "            color='black',\n",
    "            size=14,\n",
    "            family='Arial'\n",
    "        ),\n",
    "    showlegend=False\n",
    "), row=2, col=1)\n",
    "\n",
    "# --- pyment ---\n",
    "fig.add_trace(go.Box(y=pyment_CP[pyment_CP['Grupo']=='CONTROL']['Error'], name=\"UNSAM_LC CN\", marker_color='#495CD4', showlegend=False), row=1, col=2)\n",
    "fig.add_trace(go.Box(y=pyment_CP[pyment_CP['Grupo']=='COVID']['Error'], name=\"UNSAM_LC LC\", marker_color='#E2495E', showlegend=False), row=1, col=2)\n",
    "fig.add_trace(go.Box(y=pyment_ADNI[pyment_ADNI['Group']=='CN']['Error'], name=\"ADNI CN\", marker_color='#223BE0', showlegend=False), row=1, col=2)\n",
    "fig.add_trace(go.Box(y=pyment_ADNI[(pyment_ADNI['Group']!='CN') & (pyment_ADNI['Group']!='AD')]['Error'], name=\"ADNI MCI\", marker_color='red', showlegend=False), row=1, col=2)\n",
    "fig.add_trace(go.Box(y=pyment_ADNI[pyment_ADNI['Group']=='AD']['Error'], name=\"ADNI AD\", marker_color='#EE2F9B', showlegend=False), row=1, col=2)\n",
    "\n",
    "fig.add_trace(go.Scatter(\n",
    "    x=[\"UNSAM_LC CN\", \"UNSAM_LC LC\", \"ADNI CN\", \"ADNI MCI\", 'ADNI AD'],\n",
    "    y=[median_pyment_CP_CN, median_pyment_CP_LC, median_pyment_ADNI_CN, median_pyment_ADNI_MCI, median_pyment_ADNI_AD],\n",
    "    mode=\"text\",\n",
    "    text=[f\"{median_pyment_CP_CN:.2f}\", f\"{median_pyment_CP_LC:.2f}\", f\"{median_pyment_ADNI_CN:.2f}\", f\"{median_pyment_ADNI_MCI:.2f}\", f\"{median_pyment_ADNI_AD:.2f}\"],\n",
    "    textposition=\"top center\",\n",
    "    textfont=dict(\n",
    "            color='black',\n",
    "            size=14,\n",
    "            family='Arial'\n",
    "        ),\n",
    "    showlegend=False\n",
    "), row=1, col=2)\n",
    "\n",
    "# --- ENIGMA ---\n",
    "fig.add_trace(go.Box(y=ENIGMA_CP[ENIGMA_CP['Grupo']=='CONTROL']['Error'], name=\"UNSAM_LC CN\", marker_color=\"#495CD4\", showlegend=False), row=1, col=1)\n",
    "fig.add_trace(go.Box(y=ENIGMA_CP[ENIGMA_CP['Grupo']=='COVID']['Error'], name=\"UNSAM_LC LC\", marker_color=\"#E2495E\", showlegend=False), row=1, col=1)\n",
    "fig.add_trace(go.Box(y=ENIGMA_ADNI[ENIGMA_ADNI['Group']==\"CN\"]['Error'], name=\"ADNI CN\", marker_color='#223BE0', showlegend=False), row=1, col=1)\n",
    "fig.add_trace(go.Box(y=ENIGMA_ADNI[(ENIGMA_ADNI['Group']!='CN') & (ENIGMA_ADNI['Group']!='AD')]['Error'], name=\"ADNI MCI\", marker_color='red', showlegend=False), row=1, col=1)\n",
    "fig.add_trace(go.Box(y=ENIGMA_ADNI[ENIGMA_ADNI['Group']=='AD']['Error'], name=\"ADNI AD\", marker_color=\"#EE2F9B\", showlegend=False), row=1, col=1)\n",
    "\n",
    "fig.add_trace(go.Scatter(\n",
    "    x=[\"UNSAM_LC CN\", \"UNSAM_LC LC\", \"ADNI CN\", \"ADNI MCI\", \"ADNI AD\"],\n",
    "    y=[median_ENIGMA_CP_CN, median_ENIGMA_CP_LC, median_ENIGMA_ADNI_CN, median_ENIGMA_ADNI_MCI, median_ENIGMA_ADNI_AD],\n",
    "    mode=\"text\",\n",
    "    text=[f\"{median_ENIGMA_CP_CN:.2f}\", f\"{median_ENIGMA_CP_LC:.2f}\", f\"{median_ENIGMA_ADNI_CN:.2f}\", f\"{median_ENIGMA_ADNI_MCI:.2f}\", f\"{median_ENIGMA_ADNI_AD:.2f}\"],\n",
    "    textposition=\"top center\",\n",
    "    textfont=dict(\n",
    "            color='black',\n",
    "            size=14,\n",
    "            family='Arial'\n",
    "        ),\n",
    "    showlegend=False\n",
    "), row=1, col=1)\n",
    "\n",
    "fig.update_layout(\n",
    "    height=800, width=1000,\n",
    "    plot_bgcolor='white',  # fondo blanco\n",
    "    paper_bgcolor='white',\n",
    "    margin=dict(t=40,l=20, r=20, b=20),  # Ajustar márgenes\n",
    ")\n",
    "\n",
    "# Agregar etiquetas agrupadas (\"UNSAM_LC\" y \"ADNI\") debajo del eje x de cada subplot\n",
    "\n",
    "# Posiciones aproximadas para los subgrupos de boxplots dentro de cada subplot\n",
    "unsam_x = 0.1  # centrado entre el primer y segundo boxplot\n",
    "adni_x = 0.75   # centrado entre los tres de ADNI\n",
    "\n",
    "# Fila 1 - columna 1 (BAN)\n",
    "fig.add_annotation(\n",
    "    text=\"UNSAM_LC\", xref=\"x domain\", yref=\"paper\",\n",
    "    x=unsam_x, y=-32, showarrow=False,\n",
    "    font=dict(size=14, color=\"black\"), row=1, col=1\n",
    ")\n",
    "fig.add_annotation(\n",
    "    text=\"ADNI\", xref=\"x domain\", yref=\"paper\",\n",
    "    x=adni_x, y=-32, showarrow=False,\n",
    "    font=dict(size=14, color=\"black\"), row=1, col=1\n",
    ")\n",
    "\n",
    "# Fila 1 - columna 2 (DBN)\n",
    "fig.add_annotation(\n",
    "    text=\"UNSAM_LC\", xref=\"x domain\", yref=\"paper\",\n",
    "    x=unsam_x, y=-32, showarrow=False,\n",
    "    font=dict(size=14, color=\"black\"), row=1, col=2\n",
    ")\n",
    "fig.add_annotation(\n",
    "    text=\"ADNI\", xref=\"x domain\", yref=\"paper\",\n",
    "    x=adni_x, y=-32, showarrow=False,\n",
    "    font=dict(size=14, color=\"black\"), row=1, col=2\n",
    ")\n",
    "\n",
    "# Fila 2 - columna 1 (Pyment)\n",
    "fig.add_annotation(\n",
    "    text=\"UNSAM_LC\", xref=\"x domain\", yref=\"paper\",\n",
    "    x=unsam_x, y=-32, showarrow=False,\n",
    "    font=dict(size=14, color=\"black\"), row=2, col=1\n",
    ")\n",
    "fig.add_annotation(\n",
    "    text=\"ADNI\", xref=\"x domain\", yref=\"paper\",\n",
    "    x=adni_x, y=-32, showarrow=False,\n",
    "    font=dict(size=14, color=\"black\"), row=2, col=1\n",
    ")\n",
    "\n",
    "# Fila 2 - columna 2 (ENIGMA)\n",
    "fig.add_annotation(\n",
    "    text=\"UNSAM_LC\", xref=\"x domain\", yref=\"paper\",\n",
    "    x=unsam_x, y=-32, showarrow=False,\n",
    "    font=dict(size=14, color=\"black\"), row=2, col=2\n",
    ")\n",
    "fig.add_annotation(\n",
    "    text=\"ADNI\", xref=\"x domain\", yref=\"paper\",\n",
    "    x=adni_x, y=-32, showarrow=False,\n",
    "    font=dict(size=14, color=\"black\"), row=2, col=2\n",
    ")\n",
    "\n",
    "\n",
    "# Mejorar la visibilidad del grid (aplica a todos los ejes)\n",
    "fig.update_yaxes(showgrid=True, gridwidth=1, gridcolor='grey', zeroline=False)\n",
    "fig.update_yaxes(range=[-35, 25])\n",
    "fig.update_xaxes(showticklabels=False)\n",
    "\n",
    "\n",
    "fig.show()"
   ]
  },
  {
   "cell_type": "code",
   "execution_count": 33,
   "id": "8286b041",
   "metadata": {},
   "outputs": [
    {
     "name": "stdout",
     "output_type": "stream",
     "text": [
      "BAN_ADNI: t-statistic = -1.519, p-value = 0.131\n",
      "DBN_ADNI: t-statistic = -3.989, p-value = 0.000\n",
      "pyment_ADNI: t-statistic = -3.135, p-value = 0.002\n",
      "ENIGMA_ADNI: t-statistic = -1.963, p-value = 0.181\n"
     ]
    }
   ],
   "source": [
    "#prueda de t de student para el valor de Error entre los grupos de COVID y CN en cada dataset\n",
    "from scipy import stats\n",
    "DBN_ADNI['Group'] = DBN_ADNI['Group'].replace({'SMC': 'MCI', 'LMCI': 'MCI', 'EMCI': 'MCI'})\n",
    "BAN_ADNI['Grupo'] = BAN_ADNI['Group'].replace({'SMC': 'MCI', 'LMCI': 'MCI', 'EMCI': 'MCI'})\n",
    "pyment_ADNI['Group'] = pyment_ADNI['Group'].replace({'SMC': 'MCI', 'LMCI': 'MCI', 'EMCI': 'MCI'})\n",
    "ENIGMA_ADNI['Group'] = ENIGMA_ADNI['Group'].replace({'SMC': 'MCI', 'LMCI': 'MCI', 'EMCI': 'MCI'})\n",
    "\n",
    "def t_test_error(df, group1, group2):\n",
    "    group1_errors = df[df['Group'] == group1]['Error']\n",
    "    group2_errors = df[df['Group'] == group2]['Error']\n",
    "    t_stat, p_value = stats.ttest_ind(group1_errors, group2_errors, equal_var=False)\n",
    "    return t_stat, p_value\n",
    "\n",
    "# Aplicar la prueba t a cada dataset\n",
    "datasets = {\n",
    "    'BAN_ADNI': BAN_ADNI,\n",
    "    #'BAN_CP': BAN_CP,\n",
    "    'DBN_ADNI': DBN_ADNI,\n",
    "    #'DBN_CP': DBN_CP,\n",
    "    'pyment_ADNI': pyment_ADNI,\n",
    "    #'pyment_CP': pyment_CP,\n",
    "    'ENIGMA_ADNI': ENIGMA_ADNI,\n",
    "    #'ENIGMA_CP': ENIGMA_CP,\n",
    "}\n",
    "\n",
    "results = {}\n",
    "for name, df in datasets.items():\n",
    "    if 'ADNI' in name:\n",
    "        t_stat, p_value = t_test_error(df, 'MCI', 'AD')\n",
    "    #else:\n",
    "    #    t_stat, p_value = t_test_error(df, 'CONTROL', 'COVID')\n",
    "    results[name] = {'t_stat': t_stat, 'p_value': p_value}  \n",
    "\n",
    "# Mostrar resultados\n",
    "for name, result in results.items():\n",
    "    print(f\"{name}: t-statistic = {result['t_stat']:.3f}, p-value = {result['p_value']:.3f}\")"
   ]
  },
  {
   "cell_type": "code",
   "execution_count": 34,
   "id": "b4281bda",
   "metadata": {},
   "outputs": [
    {
     "data": {
      "text/html": [
       "<div>\n",
       "<style scoped>\n",
       "    .dataframe tbody tr th:only-of-type {\n",
       "        vertical-align: middle;\n",
       "    }\n",
       "\n",
       "    .dataframe tbody tr th {\n",
       "        vertical-align: top;\n",
       "    }\n",
       "\n",
       "    .dataframe thead th {\n",
       "        text-align: right;\n",
       "    }\n",
       "</style>\n",
       "<table border=\"1\" class=\"dataframe\">\n",
       "  <thead>\n",
       "    <tr style=\"text-align: right;\">\n",
       "      <th></th>\n",
       "      <th>ID</th>\n",
       "      <th>Predicted_Brain_Age</th>\n",
       "      <th>Grupo</th>\n",
       "      <th>Edad</th>\n",
       "      <th>Genero</th>\n",
       "      <th>Absolute_Error</th>\n",
       "      <th>Error</th>\n",
       "    </tr>\n",
       "  </thead>\n",
       "  <tbody>\n",
       "    <tr>\n",
       "      <th>0</th>\n",
       "      <td>CP0053</td>\n",
       "      <td>56.062574</td>\n",
       "      <td>COVID</td>\n",
       "      <td>60</td>\n",
       "      <td>F</td>\n",
       "      <td>3.937426</td>\n",
       "      <td>-3.937426</td>\n",
       "    </tr>\n",
       "    <tr>\n",
       "      <th>1</th>\n",
       "      <td>CP0100</td>\n",
       "      <td>43.878491</td>\n",
       "      <td>COVID</td>\n",
       "      <td>50</td>\n",
       "      <td>M</td>\n",
       "      <td>6.121509</td>\n",
       "      <td>-6.121509</td>\n",
       "    </tr>\n",
       "    <tr>\n",
       "      <th>2</th>\n",
       "      <td>CP0154</td>\n",
       "      <td>44.327231</td>\n",
       "      <td>COVID</td>\n",
       "      <td>42</td>\n",
       "      <td>M</td>\n",
       "      <td>2.327231</td>\n",
       "      <td>2.327231</td>\n",
       "    </tr>\n",
       "    <tr>\n",
       "      <th>3</th>\n",
       "      <td>CP0200</td>\n",
       "      <td>54.215497</td>\n",
       "      <td>CONTROL</td>\n",
       "      <td>64</td>\n",
       "      <td>F</td>\n",
       "      <td>9.784503</td>\n",
       "      <td>-9.784503</td>\n",
       "    </tr>\n",
       "    <tr>\n",
       "      <th>4</th>\n",
       "      <td>CP0001</td>\n",
       "      <td>30.249665</td>\n",
       "      <td>CONTROL</td>\n",
       "      <td>34</td>\n",
       "      <td>F</td>\n",
       "      <td>3.750335</td>\n",
       "      <td>-3.750335</td>\n",
       "    </tr>\n",
       "    <tr>\n",
       "      <th>...</th>\n",
       "      <td>...</td>\n",
       "      <td>...</td>\n",
       "      <td>...</td>\n",
       "      <td>...</td>\n",
       "      <td>...</td>\n",
       "      <td>...</td>\n",
       "      <td>...</td>\n",
       "    </tr>\n",
       "    <tr>\n",
       "      <th>197</th>\n",
       "      <td>CP0242</td>\n",
       "      <td>39.844294</td>\n",
       "      <td>COVID</td>\n",
       "      <td>45</td>\n",
       "      <td>M</td>\n",
       "      <td>5.155706</td>\n",
       "      <td>-5.155706</td>\n",
       "    </tr>\n",
       "    <tr>\n",
       "      <th>198</th>\n",
       "      <td>CP0246</td>\n",
       "      <td>46.997994</td>\n",
       "      <td>CONTROL</td>\n",
       "      <td>51</td>\n",
       "      <td>M</td>\n",
       "      <td>4.002006</td>\n",
       "      <td>-4.002006</td>\n",
       "    </tr>\n",
       "    <tr>\n",
       "      <th>199</th>\n",
       "      <td>CP0247</td>\n",
       "      <td>40.421510</td>\n",
       "      <td>COVID</td>\n",
       "      <td>47</td>\n",
       "      <td>F</td>\n",
       "      <td>6.578490</td>\n",
       "      <td>-6.578490</td>\n",
       "    </tr>\n",
       "    <tr>\n",
       "      <th>200</th>\n",
       "      <td>CP0249</td>\n",
       "      <td>30.368266</td>\n",
       "      <td>COVID</td>\n",
       "      <td>41</td>\n",
       "      <td>M</td>\n",
       "      <td>10.631734</td>\n",
       "      <td>-10.631734</td>\n",
       "    </tr>\n",
       "    <tr>\n",
       "      <th>201</th>\n",
       "      <td>CP0250</td>\n",
       "      <td>35.599044</td>\n",
       "      <td>COVID</td>\n",
       "      <td>40</td>\n",
       "      <td>F</td>\n",
       "      <td>4.400956</td>\n",
       "      <td>-4.400956</td>\n",
       "    </tr>\n",
       "  </tbody>\n",
       "</table>\n",
       "<p>202 rows × 7 columns</p>\n",
       "</div>"
      ],
      "text/plain": [
       "         ID  Predicted_Brain_Age    Grupo  Edad Genero  Absolute_Error  \\\n",
       "0    CP0053            56.062574    COVID    60      F        3.937426   \n",
       "1    CP0100            43.878491    COVID    50      M        6.121509   \n",
       "2    CP0154            44.327231    COVID    42      M        2.327231   \n",
       "3    CP0200            54.215497  CONTROL    64      F        9.784503   \n",
       "4    CP0001            30.249665  CONTROL    34      F        3.750335   \n",
       "..      ...                  ...      ...   ...    ...             ...   \n",
       "197  CP0242            39.844294    COVID    45      M        5.155706   \n",
       "198  CP0246            46.997994  CONTROL    51      M        4.002006   \n",
       "199  CP0247            40.421510    COVID    47      F        6.578490   \n",
       "200  CP0249            30.368266    COVID    41      M       10.631734   \n",
       "201  CP0250            35.599044    COVID    40      F        4.400956   \n",
       "\n",
       "         Error  \n",
       "0    -3.937426  \n",
       "1    -6.121509  \n",
       "2     2.327231  \n",
       "3    -9.784503  \n",
       "4    -3.750335  \n",
       "..         ...  \n",
       "197  -5.155706  \n",
       "198  -4.002006  \n",
       "199  -6.578490  \n",
       "200 -10.631734  \n",
       "201  -4.400956  \n",
       "\n",
       "[202 rows x 7 columns]"
      ]
     },
     "execution_count": 34,
     "metadata": {},
     "output_type": "execute_result"
    }
   ],
   "source": [
    "BAN_CP"
   ]
  },
  {
   "cell_type": "code",
   "execution_count": 35,
   "id": "9466d174",
   "metadata": {},
   "outputs": [
    {
     "name": "stdout",
     "output_type": "stream",
     "text": [
      "Shapiro-Wilk p-value: 0.00011071434214568434\n",
      "Anderson-Darling stat: 1.0793099763545797\n",
      "Critical values: [0.572 0.651 0.782 0.912 1.084]\n"
     ]
    },
    {
     "data": {
      "image/png": "[encoded data removed]",
      "text/plain": [
       "<Figure size 640x480 with 1 Axes>"
      ]
     },
     "metadata": {},
     "output_type": "display_data"
    },
    {
     "data": {
      "image/png": "[encoded data removed]",
      "text/plain": [
       "<Figure size 640x480 with 1 Axes>"
      ]
     },
     "metadata": {},
     "output_type": "display_data"
    }
   ],
   "source": [
    "from scipy.stats import shapiro, normaltest, anderson\n",
    "\n",
    "# Test de Shapiro-Wilk (mejor para n < 5000)\n",
    "variable = BAN_ADNI[BAN_ADNI['Group']=='CN']['Error']\n",
    "\n",
    "stat, p = shapiro(variable)\n",
    "print(\"Shapiro-Wilk p-value:\", p)\n",
    "\n",
    "# Anderson-Darling\n",
    "result = anderson(variable)\n",
    "print(\"Anderson-Darling stat:\", result.statistic)\n",
    "print(\"Critical values:\", result.critical_values)\n",
    "\n",
    "sns.histplot(variable, kde=True)\n",
    "plt.show()\n",
    "stats.probplot(variable, dist=\"norm\", plot=plt)\n",
    "plt.show()\n",
    "\n"
   ]
  }
 ],
 "metadata": {
  "kernelspec": {
   "display_name": "Python 3",
   "language": "python",
   "name": "python3"
  },
  "language_info": {
   "codemirror_mode": {
    "name": "ipython",
    "version": 3
   },
   "file_extension": ".py",
   "mimetype": "text/x-python",
   "name": "python",
   "nbconvert_exporter": "python",
   "pygments_lexer": "ipython3",
   "version": "3.10.12"
  }
 },
 "nbformat": 4,
 "nbformat_minor": 5
}
