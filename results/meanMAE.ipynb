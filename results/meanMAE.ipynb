{
 "cells": [
  {
   "cell_type": "code",
   "execution_count": 2,
   "id": "f3fd7326",
   "metadata": {},
   "outputs": [],
   "source": [
    "import pandas as pd\n",
    "import seaborn as sns\n",
    "import matplotlib.pyplot as plt\n",
    "import numpy as np"
   ]
  },
  {
   "cell_type": "code",
   "execution_count": 6,
   "id": "8c5615a7",
   "metadata": {},
   "outputs": [],
   "source": [
    "BAN_CP=pd.read_csv('/data/Lautaro/Documentos/BrainAgeCOVID/DATOS/predictions/BrainAgeNeXt/BAN_CP.csv')\n",
    "BAN_ADNI=pd.read_csv('/data/Lautaro/Documentos/BrainAgeCOVID/DATOS/predictions/BrainAgeNeXt/BAN_ADNI.csv')\n",
    "BAN_CogConVar=pd.read_csv('/data/Lautaro/Documentos/BrainAgeCOVID/DATOS/predictions/BrainAgeNeXt/BAN_CogConVar.csv')\n",
    "BAN_NCN=pd.read_csv('/data/Lautaro/Documentos/BrainAgeCOVID/DATOS/predictions/BrainAgeNeXt/BAN_NCN.csv')\n",
    "\n",
    "DBN_CP=pd.read_csv('/data/Lautaro/Documentos/BrainAgeCOVID/DATOS/predictions/DeepBrainNet/DBN_CP_BET.csv')\n",
    "DBN_ADNI=pd.read_csv('/data/Lautaro/Documentos/BrainAgeCOVID/DATOS/predictions/DeepBrainNet/DBN_ADNI_BET.csv')\n",
    "DBN_CogConVar=pd.read_csv('/data/Lautaro/Documentos/BrainAgeCOVID/DATOS/predictions/DeepBrainNet/DBN_CogConVar_BET.csv')\n",
    "DBN_NCN=pd.read_csv('/data/Lautaro/Documentos/BrainAgeCOVID/DATOS/predictions/DeepBrainNet/DBN_NCN_BET.csv')\n",
    "\n",
    "pyment_CP=pd.read_csv('/data/Lautaro/Documentos/BrainAgeCOVID/DATOS/predictions/pyment/pyment_CP.csv')\n",
    "pyment_ADNI=pd.read_csv('/data/Lautaro/Documentos/BrainAgeCOVID/DATOS/predictions/pyment/pyment_ADNI.csv')\n",
    "pyment_CogConVar=pd.read_csv('/data/Lautaro/Documentos/BrainAgeCOVID/DATOS/predictions/pyment/pyment_CogConVar.csv')\n",
    "pyment_NCN=pd.read_csv('/data/Lautaro/Documentos/BrainAgeCOVID/DATOS/predictions/pyment/pyment_NCN.csv')\n",
    "\n",
    "ENIGMA_CP=pd.read_csv('/data/Lautaro/Documentos/BrainAgeCOVID/DATOS/predictions/ENIGMA/ENIGMA_CP.csv')\n",
    "ENIGMA_ADNI=pd.read_csv('/data/Lautaro/Documentos/BrainAgeCOVID/DATOS/predictions/ENIGMA/ENIGMA_ADNI.csv')\n",
    "ENIGMA_NCN= pd.read_csv('/data/Lautaro/Documentos/BrainAgeCOVID/DATOS/predictions/ENIGMA/ENIGMA_NCN.csv')\n",
    "ENIGMA_CogConVar=pd.read_csv('/data/Lautaro/Documentos/BrainAgeCOVID/DATOS/predictions/ENIGMA/ENIGMA_CogConVar.csv')"
   ]
  },
  {
   "cell_type": "code",
   "execution_count": 4,
   "id": "eb72b638",
   "metadata": {},
   "outputs": [],
   "source": [
    "ENIGMA_ADNI=ENIGMA_ADNI[ENIGMA_ADNI['Group']=='CN'] \n",
    "pyment_ADNI=pyment_ADNI[pyment_ADNI['Group']=='CN']\n",
    "DBN_ADNI=DBN_ADNI[DBN_ADNI['Group']=='CN']\n",
    "BAN_ADNI=BAN_ADNI[BAN_ADNI['Group']=='CN']\n"
   ]
  },
  {
   "cell_type": "code",
   "execution_count": 206,
   "id": "5d8795ce",
   "metadata": {},
   "outputs": [],
   "source": [
    "# Sample 97 random subjects from each dataset\n",
    "BAN_CP_sample = BAN_CP.sample(n=97, random_state=42)\n",
    "BAN_ADNI_sample = BAN_ADNI.sample(n=97, random_state=42)\n",
    "BAN_CogConVar_sample = BAN_CogConVar.sample(n=97, random_state=42)\n",
    "BAN_NCN_sample = BAN_NCN.sample(n=97, random_state=42)\n",
    "\n",
    "DBN_CP_sample = DBN_CP.sample(n=97, random_state=42)\n",
    "DBN_ADNI_sample = DBN_ADNI.sample(n=97, random_state=42)\n",
    "DBN_CogConVar_sample = DBN_CogConVar.sample(n=97, random_state=42)\n",
    "DBN_NCN_sample = DBN_NCN.sample(n=97, random_state=42)\n",
    "\n",
    "pyment_CP_sample = pyment_CP.sample(n=97, random_state=42)\n",
    "pyment_ADNI_sample = pyment_ADNI.sample(n=97, random_state=42)\n",
    "pyment_CogConVar_sample = pyment_CogConVar.sample(n=97, random_state=42)\n",
    "pyment_NCN_sample = pyment_NCN.sample(n=97, random_state=42)\n",
    "\n",
    "ENIGMA_CP_sample = ENIGMA_CP.sample(n=97, random_state=42)\n",
    "ENIGMA_ADNI_sample = ENIGMA_ADNI.sample(n=97, random_state=42)\n",
    "ENIGMA_NCN_sample = ENIGMA_NCN.sample(n=97, random_state=42)\n",
    "ENIGMA_CogConVar_sample = ENIGMA_CogConVar.sample(n=97, random_state=42)"
   ]
  },
  {
   "cell_type": "code",
   "execution_count": 207,
   "id": "051b9ae0",
   "metadata": {},
   "outputs": [],
   "source": [
    "ENIGMA_CP_sample.rename(columns={'Absolute_Error': 'Absolute Error', 'Edad':'Age'}, inplace=True)\n",
    "ENIGMA_CP_sample=ENIGMA_CP_sample[['ID','Absolute Error','Error','Age']]\n",
    "\n",
    "ENIGMA_ADNI_sample=ENIGMA_ADNI_sample[['ID','Absolute Error','Error','Age']]\n",
    "\n",
    "ENIGMA_NCN_sample.rename(columns={'participant_id': 'ID', 'age':'Age'}, inplace=True)\n",
    "ENIGMA_NCN_sample=ENIGMA_NCN_sample[['ID','Absolute Error','Error','Age']]\n",
    "ENIGMA_NCN_sample['ID']='NCN_' + ENIGMA_NCN_sample['ID']\n",
    "\n",
    "ENIGMA_CogConVar_sample.rename(columns={'participant_id': 'ID', 'age':'Age'}, inplace=True)\n",
    "ENIGMA_CogConVar_sample=ENIGMA_CogConVar_sample[['ID','Absolute Error','Error','Age']]\n",
    "\n",
    "concat_ENIGMA = pd.concat([ENIGMA_CP_sample, ENIGMA_ADNI_sample, ENIGMA_NCN_sample, ENIGMA_CogConVar_sample], ignore_index=True)"
   ]
  },
  {
   "cell_type": "code",
   "execution_count": 208,
   "id": "09dabcdc",
   "metadata": {},
   "outputs": [],
   "source": [
    "DBN_CP_sample.rename(columns={'Edad': 'Age'}, inplace=True)\n",
    "DBN_CP_sample=DBN_CP_sample[['ID','Absolute_Error','Error','Age']]\n",
    "\n",
    "DBN_ADNI_sample.rename(columns={'Absolute_error': 'Absolute_Error'}, inplace=True)\n",
    "DBN_ADNI_sample=DBN_ADNI_sample[['ID','Absolute_Error','Error','Age']]\n",
    "\n",
    "DBN_NCN_sample.rename(columns={'participant_id': 'ID','age':'Age'}, inplace=True)\n",
    "DBN_NCN_sample.rename(columns={'Absolute_error': 'Absolute_Error'}, inplace=True)\n",
    "DBN_NCN_sample=DBN_NCN_sample[['ID','Absolute_Error','Error','Age']]\n",
    "DBN_NCN_sample['ID']='NCN_' + DBN_NCN_sample['ID']\n",
    "\n",
    "DBN_CogConVar_sample.rename(columns={'participant_id': 'ID'}, inplace=True)\n",
    "DBN_CogConVar_sample.rename(columns={'Absolute_error': 'Absolute_Error','age':'Age'}, inplace=True)\n",
    "DBN_CogConVar_sample=DBN_CogConVar_sample[['ID','Absolute_Error','Error','Age']]\n",
    "\n",
    "concat_DBN = pd.concat([DBN_CP_sample, DBN_ADNI_sample, DBN_NCN_sample, DBN_CogConVar_sample], ignore_index=True)"
   ]
  },
  {
   "cell_type": "code",
   "execution_count": 209,
   "id": "8a89c6e9",
   "metadata": {},
   "outputs": [],
   "source": [
    "pyment_CP_sample.rename(columns={'Edad':'Age'},inplace=True)\n",
    "pyment_CP_sample=pyment_CP_sample[['ID','Absolute_Error','Error','Age']]\n",
    "\n",
    "pyment_ADNI_sample=pyment_ADNI_sample[['ID','Absolute_Error','Error','Age']]\n",
    "\n",
    "pyment_NCN_sample.rename(columns={'participant_id': 'ID','age':'Age'}, inplace=True)\n",
    "pyment_NCN_sample=pyment_NCN_sample[['ID','Absolute_Error','Error','Age']]\n",
    "pyment_NCN_sample['ID']='NCN_' + pyment_NCN_sample['ID']\n",
    "\n",
    "pyment_CogConVar_sample.rename(columns={'participant_id': 'ID','age':'Age'}, inplace=True)\n",
    "pyment_CogConVar_sample=pyment_CogConVar_sample[['ID','Absolute_Error','Error','Age']]\n",
    "\n",
    "concat_pyment = pd.concat([pyment_CP_sample, pyment_ADNI_sample, pyment_NCN_sample, pyment_CogConVar_sample], ignore_index=True)"
   ]
  },
  {
   "cell_type": "code",
   "execution_count": 210,
   "id": "585285c3",
   "metadata": {},
   "outputs": [
    {
     "data": {
      "text/html": [
       "<div>\n",
       "<style scoped>\n",
       "    .dataframe tbody tr th:only-of-type {\n",
       "        vertical-align: middle;\n",
       "    }\n",
       "\n",
       "    .dataframe tbody tr th {\n",
       "        vertical-align: top;\n",
       "    }\n",
       "\n",
       "    .dataframe thead th {\n",
       "        text-align: right;\n",
       "    }\n",
       "</style>\n",
       "<table border=\"1\" class=\"dataframe\">\n",
       "  <thead>\n",
       "    <tr style=\"text-align: right;\">\n",
       "      <th></th>\n",
       "      <th>ID</th>\n",
       "      <th>Absolute_Error</th>\n",
       "      <th>Error</th>\n",
       "      <th>Age</th>\n",
       "    </tr>\n",
       "  </thead>\n",
       "  <tbody>\n",
       "    <tr>\n",
       "      <th>0</th>\n",
       "      <td>CP0178</td>\n",
       "      <td>5.126610</td>\n",
       "      <td>-5.126610</td>\n",
       "      <td>42.0</td>\n",
       "    </tr>\n",
       "    <tr>\n",
       "      <th>1</th>\n",
       "      <td>CP0154</td>\n",
       "      <td>3.306828</td>\n",
       "      <td>3.306828</td>\n",
       "      <td>42.0</td>\n",
       "    </tr>\n",
       "    <tr>\n",
       "      <th>2</th>\n",
       "      <td>CP0024</td>\n",
       "      <td>5.444786</td>\n",
       "      <td>5.444786</td>\n",
       "      <td>46.0</td>\n",
       "    </tr>\n",
       "    <tr>\n",
       "      <th>3</th>\n",
       "      <td>CP0075</td>\n",
       "      <td>8.755250</td>\n",
       "      <td>-8.755250</td>\n",
       "      <td>49.0</td>\n",
       "    </tr>\n",
       "    <tr>\n",
       "      <th>4</th>\n",
       "      <td>CP0200</td>\n",
       "      <td>9.488384</td>\n",
       "      <td>-9.488384</td>\n",
       "      <td>64.0</td>\n",
       "    </tr>\n",
       "    <tr>\n",
       "      <th>...</th>\n",
       "      <td>...</td>\n",
       "      <td>...</td>\n",
       "      <td>...</td>\n",
       "      <td>...</td>\n",
       "    </tr>\n",
       "    <tr>\n",
       "      <th>383</th>\n",
       "      <td>sub-065</td>\n",
       "      <td>9.790367</td>\n",
       "      <td>9.790367</td>\n",
       "      <td>49.0</td>\n",
       "    </tr>\n",
       "    <tr>\n",
       "      <th>384</th>\n",
       "      <td>sub-076</td>\n",
       "      <td>0.400180</td>\n",
       "      <td>0.400180</td>\n",
       "      <td>78.0</td>\n",
       "    </tr>\n",
       "    <tr>\n",
       "      <th>385</th>\n",
       "      <td>sub-066</td>\n",
       "      <td>12.517790</td>\n",
       "      <td>-12.517790</td>\n",
       "      <td>47.0</td>\n",
       "    </tr>\n",
       "    <tr>\n",
       "      <th>386</th>\n",
       "      <td>sub-062</td>\n",
       "      <td>1.174940</td>\n",
       "      <td>1.174940</td>\n",
       "      <td>30.0</td>\n",
       "    </tr>\n",
       "    <tr>\n",
       "      <th>387</th>\n",
       "      <td>sub-097</td>\n",
       "      <td>3.622433</td>\n",
       "      <td>3.622433</td>\n",
       "      <td>56.0</td>\n",
       "    </tr>\n",
       "  </tbody>\n",
       "</table>\n",
       "<p>388 rows × 4 columns</p>\n",
       "</div>"
      ],
      "text/plain": [
       "          ID  Absolute_Error      Error   Age\n",
       "0     CP0178        5.126610  -5.126610  42.0\n",
       "1     CP0154        3.306828   3.306828  42.0\n",
       "2     CP0024        5.444786   5.444786  46.0\n",
       "3     CP0075        8.755250  -8.755250  49.0\n",
       "4     CP0200        9.488384  -9.488384  64.0\n",
       "..       ...             ...        ...   ...\n",
       "383  sub-065        9.790367   9.790367  49.0\n",
       "384  sub-076        0.400180   0.400180  78.0\n",
       "385  sub-066       12.517790 -12.517790  47.0\n",
       "386  sub-062        1.174940   1.174940  30.0\n",
       "387  sub-097        3.622433   3.622433  56.0\n",
       "\n",
       "[388 rows x 4 columns]"
      ]
     },
     "execution_count": 210,
     "metadata": {},
     "output_type": "execute_result"
    }
   ],
   "source": [
    "concat_pyment"
   ]
  },
  {
   "cell_type": "code",
   "execution_count": 211,
   "id": "ecf2c2d3",
   "metadata": {},
   "outputs": [],
   "source": [
    "BAN_CP_sample.rename(columns={'Edad':'Age'}, inplace=True)\n",
    "BAN_CP_sample=BAN_CP_sample[['ID','Absolute_Error','Error','Age']]\n",
    "\n",
    "BAN_ADNI_sample=BAN_ADNI_sample[['ID','Absolute_Error','Error','Age']]\n",
    "\n",
    "BAN_CogConVar_sample.rename(columns={'participant_id': 'ID','age':'Age'}, inplace=True)\n",
    "BAN_CogConVar_sample=BAN_CogConVar_sample[['ID','Absolute_Error','Error','Age']]\n",
    "BAN_CogConVar_sample['ID']='CogConVar_' + BAN_CogConVar_sample['ID']\n",
    "\n",
    "BAN_NCN_sample.rename(columns={'participant_id': 'ID','age':'Age'}, inplace=True)\n",
    "BAN_NCN_sample=BAN_NCN_sample[['ID','Absolute_Error','Error','Age']]\n",
    "\n",
    "concat_BAN = pd.concat([BAN_CP_sample, BAN_ADNI_sample, BAN_NCN_sample, BAN_CogConVar_sample], ignore_index=True)"
   ]
  },
  {
   "cell_type": "code",
   "execution_count": 212,
   "id": "5094cc19",
   "metadata": {},
   "outputs": [],
   "source": [
    "BAN_MAE=concat_BAN['Absolute_Error'].mean()\n",
    "DBN_MAE=concat_DBN['Absolute_Error'].mean()\n",
    "pyment_MAE=concat_pyment['Absolute_Error'].mean()\n",
    "ENIGMA_MAE=concat_ENIGMA['Absolute Error'].mean()\n",
    "#lo mismo pero con el error\n",
    "BAN_ME=concat_BAN['Error'].mean()\n",
    "DBN_ME=concat_DBN['Error'].mean()\n",
    "pyment_ME=concat_pyment['Error'].mean()\n",
    "ENIGMA_ME=concat_ENIGMA['Error'].mean()\n",
    "#desvio estandar\n",
    "BAN_astd=concat_BAN['Absolute_Error'].std()\n",
    "DBN_astd=concat_DBN['Absolute_Error'].std()\n",
    "pyment_astd=concat_pyment['Absolute_Error'].std()\n",
    "ENIGMA_astd=concat_ENIGMA['Absolute Error'].std()\n",
    "\n",
    "BAN_std=concat_BAN['Error'].std()\n",
    "DBN_std=concat_DBN['Error'].std()\n",
    "pyment_std=concat_pyment['Error'].std()\n",
    "ENIGMA_std=concat_ENIGMA['Error'].std()"
   ]
  },
  {
   "cell_type": "code",
   "execution_count": 213,
   "id": "5f692758",
   "metadata": {},
   "outputs": [
    {
     "name": "stdout",
     "output_type": "stream",
     "text": [
      "BAN: 4.56142574428283\n",
      "DBN: 6.207536471649485\n",
      "pyment: 3.6675822532299747\n",
      "ENIGMA: 12.309472543825253\n"
     ]
    }
   ],
   "source": [
    "print(f\"BAN: {BAN_MAE}\")\n",
    "print(f\"DBN: {DBN_MAE}\")\n",
    "print(f\"pyment: {pyment_MAE}\")\n",
    "print(f\"ENIGMA: {ENIGMA_MAE}\")"
   ]
  },
  {
   "cell_type": "code",
   "execution_count": 214,
   "id": "736b0eb5",
   "metadata": {},
   "outputs": [
    {
     "name": "stdout",
     "output_type": "stream",
     "text": [
      "BAN: -3.7203962554931627\n",
      "DBN: 2.096501234536083\n",
      "pyment: -1.039992682170543\n",
      "ENIGMA: -2.0240284787826988\n"
     ]
    }
   ],
   "source": [
    "print(f\"BAN: {BAN_ME}\")\n",
    "print(f\"DBN: {DBN_ME}\")\n",
    "print(f\"pyment: {pyment_ME}\")\n",
    "print(f\"ENIGMA: {ENIGMA_ME}\")"
   ]
  },
  {
   "cell_type": "code",
   "execution_count": 215,
   "id": "6a703db6",
   "metadata": {},
   "outputs": [
    {
     "name": "stdout",
     "output_type": "stream",
     "text": [
      "BAN astd: 3.6725210436847076\n",
      "DBN astd: 4.658936651664468\n",
      "pyment astd: 2.9377573869057394\n",
      "ENIGMA astd: 8.859153361071629\n"
     ]
    }
   ],
   "source": [
    "print(f\"BAN astd: {BAN_astd}\")\n",
    "print(f\"DBN astd: {DBN_astd}\")\n",
    "print(f\"pyment astd: {pyment_astd}\")\n",
    "print(f\"ENIGMA astd: {ENIGMA_astd}\")"
   ]
  },
  {
   "cell_type": "code",
   "execution_count": 216,
   "id": "bf290602",
   "metadata": {},
   "outputs": [
    {
     "name": "stdout",
     "output_type": "stream",
     "text": [
      "BAN std: 4.52445194668876\n",
      "DBN std: 7.478776285336921\n",
      "pyment std: 4.586070082340863\n",
      "ENIGMA std: 15.04300395960764\n"
     ]
    }
   ],
   "source": [
    "print(f\"BAN std: {BAN_std}\")\n",
    "print(f\"DBN std: {DBN_std}\")\n",
    "print(f\"pyment std: {pyment_std}\")\n",
    "print(f\"ENIGMA std: {ENIGMA_std}\")"
   ]
  },
  {
   "cell_type": "code",
   "execution_count": 217,
   "id": "e9a67ee5",
   "metadata": {},
   "outputs": [
    {
     "data": {
      "image/png": "[encoded data removed]",
      "text/plain": [
       "<Figure size 800x500 with 1 Axes>"
      ]
     },
     "metadata": {},
     "output_type": "display_data"
    }
   ],
   "source": [
    "import matplotlib.pyplot as plt\n",
    "\n",
    "# Verificamos que la columna 'Age' exista y no tenga valores nulos\n",
    "if 'Age' in concat_BAN.columns:\n",
    "    age_data = concat_BAN['Age'].dropna()\n",
    "\n",
    "    # Definimos los límites de los bins\n",
    "    bins = [20, 30, 40, 50, 60, 70, 80, 90]  # 120 como máximo razonable\n",
    "\n",
    "    # Etiquetas opcionales para los bins\n",
    "    labels = ['20-29', '30-39', '40-49', '50-59', '60-69', '70-79', '80-89']\n",
    "\n",
    "    plt.figure(figsize=(8, 5))\n",
    "    plt.hist(age_data, bins=bins, color='skyblue', edgecolor='black')\n",
    "    plt.title('Histogram of Age (20 to 90+, 10-year bins)')\n",
    "    plt.xlabel('Age Group')\n",
    "    plt.ylabel('Frequency')\n",
    "    plt.xticks(bins[:-1], labels, rotation=45)  # omitimos el último límite en xticks\n",
    "    plt.grid(True)\n",
    "    plt.tight_layout()\n",
    "    plt.show()\n",
    "else:\n",
    "    print(\"La columna 'Age' no se encuentra en el DataFrame.\")\n",
    "\n"
   ]
  },
  {
   "cell_type": "code",
   "execution_count": 218,
   "id": "3d61ed7a",
   "metadata": {},
   "outputs": [],
   "source": [
    "# Definimos los límites de los bins y sus etiquetas\n",
    "bins = [20, 30, 40, 50, 60, 70, 80, 90]\n",
    "labels = ['20-29', '30-39', '40-49', '50-59', '60-69', '70-79', '80-89']\n",
    "\n",
    "# Creamos una nueva columna en el DataFrame con la categoría correspondiente\n",
    "concat_BAN['Age_bin'] = pd.cut(concat_BAN['Age'], bins=bins, labels=labels, right=False)\n",
    "concat_DBN['Age_bin'] = pd.cut(concat_DBN['Age'], bins=bins, labels=labels, right=False)\n",
    "concat_pyment['Age_bin'] = pd.cut(concat_pyment['Age'], bins=bins, labels=labels, right=False)\n",
    "concat_ENIGMA['Age_bin'] = pd.cut(concat_ENIGMA['Age'], bins=bins, labels=labels, right=False)"
   ]
  },
  {
   "cell_type": "code",
   "execution_count": 219,
   "id": "ec10047d",
   "metadata": {},
   "outputs": [
    {
     "name": "stderr",
     "output_type": "stream",
     "text": [
      "/tmp/ipykernel_582209/3158249565.py:1: FutureWarning: The default of observed=False is deprecated and will be changed to True in a future version of pandas. Pass observed=False to retain current behavior or observed=True to adopt the future default and silence this warning.\n",
      "  mean_error_by_bin_BAN = concat_BAN.groupby('Age_bin')['Error'].mean()\n",
      "/tmp/ipykernel_582209/3158249565.py:2: FutureWarning: The default of observed=False is deprecated and will be changed to True in a future version of pandas. Pass observed=False to retain current behavior or observed=True to adopt the future default and silence this warning.\n",
      "  mean_error_by_bin_DBN = concat_DBN.groupby('Age_bin')['Error'].mean()\n",
      "/tmp/ipykernel_582209/3158249565.py:3: FutureWarning: The default of observed=False is deprecated and will be changed to True in a future version of pandas. Pass observed=False to retain current behavior or observed=True to adopt the future default and silence this warning.\n",
      "  mean_error_by_bin_pyment = concat_pyment.groupby('Age_bin')['Error'].mean()\n",
      "/tmp/ipykernel_582209/3158249565.py:4: FutureWarning: The default of observed=False is deprecated and will be changed to True in a future version of pandas. Pass observed=False to retain current behavior or observed=True to adopt the future default and silence this warning.\n",
      "  mean_error_by_bin_ENIGMA = concat_ENIGMA.groupby('Age_bin')['Error'].mean()\n"
     ]
    }
   ],
   "source": [
    "mean_error_by_bin_BAN = concat_BAN.groupby('Age_bin')['Error'].mean()\n",
    "mean_error_by_bin_DBN = concat_DBN.groupby('Age_bin')['Error'].mean()\n",
    "mean_error_by_bin_pyment = concat_pyment.groupby('Age_bin')['Error'].mean()\n",
    "mean_error_by_bin_ENIGMA = concat_ENIGMA.groupby('Age_bin')['Error'].mean()"
   ]
  },
  {
   "cell_type": "code",
   "execution_count": 221,
   "id": "bd915d98",
   "metadata": {},
   "outputs": [
    {
     "data": {
      "text/plain": [
       "Age_bin\n",
       "20-29   -1.590672\n",
       "30-39   -3.512308\n",
       "40-49   -4.361859\n",
       "50-59   -4.193119\n",
       "60-69   -2.280226\n",
       "70-79   -5.476091\n",
       "80-89   -6.920789\n",
       "Name: Error, dtype: float64"
      ]
     },
     "execution_count": 221,
     "metadata": {},
     "output_type": "execute_result"
    }
   ],
   "source": [
    "mean_error_by_bin_BAN"
   ]
  }
 ],
 "metadata": {
  "kernelspec": {
   "display_name": "Python 3",
   "language": "python",
   "name": "python3"
  },
  "language_info": {
   "codemirror_mode": {
    "name": "ipython",
    "version": 3
   },
   "file_extension": ".py",
   "mimetype": "text/x-python",
   "name": "python",
   "nbconvert_exporter": "python",
   "pygments_lexer": "ipython3",
   "version": "3.10.12"
  }
 },
 "nbformat": 4,
 "nbformat_minor": 5
}
