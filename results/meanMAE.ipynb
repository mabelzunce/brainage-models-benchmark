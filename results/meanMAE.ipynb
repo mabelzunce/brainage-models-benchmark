{
 "cells": [
  {
   "cell_type": "code",
   "execution_count": 56,
   "id": "f3fd7326",
   "metadata": {},
   "outputs": [],
   "source": [
    "import pandas as pd\n",
    "import seaborn as sns\n",
    "import matplotlib.pyplot as plt\n",
    "import numpy as np"
   ]
  },
  {
   "cell_type": "code",
   "execution_count": 57,
   "id": "8c5615a7",
   "metadata": {},
   "outputs": [],
   "source": [
    "BAN_UNSAM=pd.read_csv('./BrainAgeNeXt/BAN_UNSAM.csv')\n",
    "BAN_ADNI=pd.read_csv('./BrainAgeNeXt/BAN_ADNI.csv')\n",
    "BAN_RRIB=pd.read_csv('./BrainAgeNeXt/BAN_RRIB.csv')\n",
    "BAN_JUK=pd.read_csv('./BrainAgeNeXt/BAN_JUK.csv')\n",
    "\n",
    "DBN_UNSAM=pd.read_csv('./DeepBrainNet/DBN_UNSAM_BET.csv')\n",
    "DBN_ADNI=pd.read_csv('./DeepBrainNet/DBN_ADNI_BET.csv')\n",
    "DBN_RRIB=pd.read_csv('./DeepBrainNet/DBN_RRIB_BET.csv')\n",
    "DBN_JUK=pd.read_csv('./DeepBrainNet/DBN_JUK_BET.csv')\n",
    "\n",
    "pyment_UNSAM=pd.read_csv('./pyment/pyment_UNSAM.csv')\n",
    "pyment_ADNI=pd.read_csv('./pyment/pyment_ADNI.csv')\n",
    "pyment_RRIB=pd.read_csv('./pyment/pyment_RRIB.csv')\n",
    "pyment_JUK=pd.read_csv('./pyment/pyment_JUK.csv')\n",
    "\n",
    "ENIGMA_UNSAM=pd.read_csv('./ENIGMA/ENIGMA_UNSAM.csv')\n",
    "ENIGMA_ADNI=pd.read_csv('./ENIGMA/ENIGMA_ADNI.csv')\n",
    "ENIGMA_JUK= pd.read_csv('./ENIGMA/ENIGMA_JUK.csv')\n",
    "ENIGMA_RRIB=pd.read_csv('./ENIGMA/ENIGMA_RRIB.csv')"
   ]
  },
  {
   "cell_type": "code",
   "execution_count": 58,
   "id": "eb72b638",
   "metadata": {},
   "outputs": [],
   "source": [
    "ENIGMA_ADNI=ENIGMA_ADNI[ENIGMA_ADNI['Group']=='CN'] \n",
    "pyment_ADNI=pyment_ADNI[pyment_ADNI['Group']=='CN']\n",
    "DBN_ADNI=DBN_ADNI[DBN_ADNI['Group']=='CN']\n",
    "BAN_ADNI=BAN_ADNI[BAN_ADNI['Group']=='CN']\n"
   ]
  },
  {
   "cell_type": "code",
   "execution_count": 59,
   "id": "5d8795ce",
   "metadata": {},
   "outputs": [],
   "source": [
    "# Sample 97 random subjects from each dataset\n",
    "BAN_UNSAM_sample = BAN_UNSAM.sample(n=97, random_state=42)\n",
    "BAN_ADNI_sample = BAN_ADNI.sample(n=97, random_state=42)\n",
    "BAN_RRIB_sample = BAN_RRIB.sample(n=97, random_state=42)\n",
    "BAN_JUK_sample = BAN_JUK.sample(n=97, random_state=42)\n",
    "\n",
    "DBN_UNSAM_sample = DBN_UNSAM.sample(n=97, random_state=42)\n",
    "DBN_ADNI_sample = DBN_ADNI.sample(n=97, random_state=42)\n",
    "DBN_RRIB_sample = DBN_RRIB.sample(n=97, random_state=42)\n",
    "DBN_JUK_sample = DBN_JUK.sample(n=97, random_state=42)\n",
    "\n",
    "pyment_UNSAM_sample = pyment_UNSAM.sample(n=97, random_state=42)\n",
    "pyment_ADNI_sample = pyment_ADNI.sample(n=97, random_state=42)\n",
    "pyment_RRIB_sample = pyment_RRIB.sample(n=97, random_state=42)\n",
    "pyment_JUK_sample = pyment_JUK.sample(n=97, random_state=42)\n",
    "\n",
    "ENIGMA_UNSAM_sample = ENIGMA_UNSAM.sample(n=97, random_state=42)\n",
    "ENIGMA_ADNI_sample = ENIGMA_ADNI.sample(n=97, random_state=42)\n",
    "ENIGMA_JUK_sample = ENIGMA_JUK.sample(n=97, random_state=42)\n",
    "ENIGMA_RRIB_sample = ENIGMA_RRIB.sample(n=97, random_state=42)"
   ]
  },
  {
   "cell_type": "code",
   "execution_count": 60,
   "id": "051b9ae0",
   "metadata": {},
   "outputs": [],
   "source": [
    "ENIGMA_UNSAM_sample.rename(columns={'Absolute_Error': 'Absolute Error', 'Edad':'Age'}, inplace=True)\n",
    "ENIGMA_UNSAM_sample=ENIGMA_UNSAM_sample[['ID','Absolute Error','Error','Age']]\n",
    "\n",
    "ENIGMA_ADNI_sample=ENIGMA_ADNI_sample[['ID','Absolute Error','Error','Age']]\n",
    "\n",
    "ENIGMA_JUK_sample.rename(columns={'participant_id': 'ID', 'age':'Age'}, inplace=True)\n",
    "ENIGMA_JUK_sample=ENIGMA_JUK_sample[['ID','Absolute Error','Error','Age']]\n",
    "ENIGMA_JUK_sample['ID']='JUK_' + ENIGMA_JUK_sample['ID']\n",
    "\n",
    "ENIGMA_RRIB_sample.rename(columns={'participant_id': 'ID', 'age':'Age'}, inplace=True)\n",
    "ENIGMA_RRIB_sample=ENIGMA_RRIB_sample[['ID','Absolute Error','Error','Age']]\n",
    "\n",
    "concat_ENIGMA = pd.concat([ENIGMA_UNSAM_sample, ENIGMA_ADNI_sample, ENIGMA_JUK_sample, ENIGMA_RRIB_sample], ignore_index=True)"
   ]
  },
  {
   "cell_type": "code",
   "execution_count": 61,
   "id": "09dabcdc",
   "metadata": {},
   "outputs": [],
   "source": [
    "DBN_UNSAM_sample.rename(columns={'Edad': 'Age'}, inplace=True)\n",
    "DBN_UNSAM_sample=DBN_UNSAM_sample[['ID','Absolute_Error','Error','Age']]\n",
    "\n",
    "DBN_ADNI_sample.rename(columns={'Absolute_error': 'Absolute_Error'}, inplace=True)\n",
    "DBN_ADNI_sample=DBN_ADNI_sample[['ID','Absolute_Error','Error','Age']]\n",
    "\n",
    "DBN_JUK_sample.rename(columns={'participant_id': 'ID','age':'Age'}, inplace=True)\n",
    "DBN_JUK_sample.rename(columns={'Absolute_error': 'Absolute_Error'}, inplace=True)\n",
    "DBN_JUK_sample=DBN_JUK_sample[['ID','Absolute_Error','Error','Age']]\n",
    "DBN_JUK_sample['ID']='JUK_' + DBN_JUK_sample['ID']\n",
    "\n",
    "DBN_RRIB_sample.rename(columns={'participant_id': 'ID'}, inplace=True)\n",
    "DBN_RRIB_sample.rename(columns={'Absolute_error': 'Absolute_Error','age':'Age'}, inplace=True)\n",
    "DBN_RRIB_sample=DBN_RRIB_sample[['ID','Absolute_Error','Error','Age']]\n",
    "\n",
    "concat_DBN = pd.concat([DBN_UNSAM_sample, DBN_ADNI_sample, DBN_JUK_sample, DBN_RRIB_sample], ignore_index=True)"
   ]
  },
  {
   "cell_type": "code",
   "execution_count": 62,
   "id": "8a89c6e9",
   "metadata": {},
   "outputs": [],
   "source": [
    "pyment_UNSAM_sample.rename(columns={'Edad':'Age'},inplace=True)\n",
    "pyment_UNSAM_sample=pyment_UNSAM_sample[['ID','Absolute_Error','Error','Age']]\n",
    "\n",
    "pyment_ADNI_sample=pyment_ADNI_sample[['ID','Absolute_Error','Error','Age']]\n",
    "\n",
    "pyment_JUK_sample.rename(columns={'participant_id': 'ID','age':'Age'}, inplace=True)\n",
    "pyment_JUK_sample=pyment_JUK_sample[['ID','Absolute_Error','Error','Age']]\n",
    "pyment_JUK_sample['ID']='JUK_' + pyment_JUK_sample['ID']\n",
    "\n",
    "pyment_RRIB_sample.rename(columns={'participant_id': 'ID','age':'Age'}, inplace=True)\n",
    "pyment_RRIB_sample=pyment_RRIB_sample[['ID','Absolute_Error','Error','Age']]\n",
    "\n",
    "concat_pyment = pd.concat([pyment_UNSAM_sample, pyment_ADNI_sample, pyment_JUK_sample, pyment_RRIB_sample], ignore_index=True)"
   ]
  },
  {
   "cell_type": "code",
   "execution_count": 63,
   "id": "585285c3",
   "metadata": {},
   "outputs": [
    {
     "data": {
      "text/html": [
       "<div>\n",
       "<style scoped>\n",
       "    .dataframe tbody tr th:only-of-type {\n",
       "        vertical-align: middle;\n",
       "    }\n",
       "\n",
       "    .dataframe tbody tr th {\n",
       "        vertical-align: top;\n",
       "    }\n",
       "\n",
       "    .dataframe thead th {\n",
       "        text-align: right;\n",
       "    }\n",
       "</style>\n",
       "<table border=\"1\" class=\"dataframe\">\n",
       "  <thead>\n",
       "    <tr style=\"text-align: right;\">\n",
       "      <th></th>\n",
       "      <th>ID</th>\n",
       "      <th>Absolute_Error</th>\n",
       "      <th>Error</th>\n",
       "      <th>Age</th>\n",
       "    </tr>\n",
       "  </thead>\n",
       "  <tbody>\n",
       "    <tr>\n",
       "      <th>0</th>\n",
       "      <td>CP0178</td>\n",
       "      <td>5.126610</td>\n",
       "      <td>-5.126610</td>\n",
       "      <td>42.0</td>\n",
       "    </tr>\n",
       "    <tr>\n",
       "      <th>1</th>\n",
       "      <td>CP0154</td>\n",
       "      <td>3.306828</td>\n",
       "      <td>3.306828</td>\n",
       "      <td>42.0</td>\n",
       "    </tr>\n",
       "    <tr>\n",
       "      <th>2</th>\n",
       "      <td>CP0024</td>\n",
       "      <td>5.444786</td>\n",
       "      <td>5.444786</td>\n",
       "      <td>46.0</td>\n",
       "    </tr>\n",
       "    <tr>\n",
       "      <th>3</th>\n",
       "      <td>CP0075</td>\n",
       "      <td>8.755250</td>\n",
       "      <td>-8.755250</td>\n",
       "      <td>49.0</td>\n",
       "    </tr>\n",
       "    <tr>\n",
       "      <th>4</th>\n",
       "      <td>CP0200</td>\n",
       "      <td>9.488384</td>\n",
       "      <td>-9.488384</td>\n",
       "      <td>64.0</td>\n",
       "    </tr>\n",
       "    <tr>\n",
       "      <th>...</th>\n",
       "      <td>...</td>\n",
       "      <td>...</td>\n",
       "      <td>...</td>\n",
       "      <td>...</td>\n",
       "    </tr>\n",
       "    <tr>\n",
       "      <th>383</th>\n",
       "      <td>NaN</td>\n",
       "      <td>NaN</td>\n",
       "      <td>NaN</td>\n",
       "      <td>NaN</td>\n",
       "    </tr>\n",
       "    <tr>\n",
       "      <th>384</th>\n",
       "      <td>sub-062</td>\n",
       "      <td>1.174940</td>\n",
       "      <td>1.174940</td>\n",
       "      <td>30.0</td>\n",
       "    </tr>\n",
       "    <tr>\n",
       "      <th>385</th>\n",
       "      <td>sub-133</td>\n",
       "      <td>3.477430</td>\n",
       "      <td>3.477430</td>\n",
       "      <td>67.0</td>\n",
       "    </tr>\n",
       "    <tr>\n",
       "      <th>386</th>\n",
       "      <td>sub-006</td>\n",
       "      <td>0.500170</td>\n",
       "      <td>0.500170</td>\n",
       "      <td>81.0</td>\n",
       "    </tr>\n",
       "    <tr>\n",
       "      <th>387</th>\n",
       "      <td>sub-075</td>\n",
       "      <td>2.011549</td>\n",
       "      <td>-2.011549</td>\n",
       "      <td>30.0</td>\n",
       "    </tr>\n",
       "  </tbody>\n",
       "</table>\n",
       "<p>388 rows × 4 columns</p>\n",
       "</div>"
      ],
      "text/plain": [
       "          ID  Absolute_Error     Error   Age\n",
       "0     CP0178        5.126610 -5.126610  42.0\n",
       "1     CP0154        3.306828  3.306828  42.0\n",
       "2     CP0024        5.444786  5.444786  46.0\n",
       "3     CP0075        8.755250 -8.755250  49.0\n",
       "4     CP0200        9.488384 -9.488384  64.0\n",
       "..       ...             ...       ...   ...\n",
       "383      NaN             NaN       NaN   NaN\n",
       "384  sub-062        1.174940  1.174940  30.0\n",
       "385  sub-133        3.477430  3.477430  67.0\n",
       "386  sub-006        0.500170  0.500170  81.0\n",
       "387  sub-075        2.011549 -2.011549  30.0\n",
       "\n",
       "[388 rows x 4 columns]"
      ]
     },
     "execution_count": 63,
     "metadata": {},
     "output_type": "execute_result"
    }
   ],
   "source": [
    "concat_pyment"
   ]
  },
  {
   "cell_type": "code",
   "execution_count": 64,
   "id": "ecf2c2d3",
   "metadata": {},
   "outputs": [],
   "source": [
    "BAN_UNSAM_sample.rename(columns={'Edad':'Age'}, inplace=True)\n",
    "BAN_UNSAM_sample=BAN_UNSAM_sample[['ID','Absolute_Error','Error','Age']]\n",
    "\n",
    "BAN_ADNI_sample=BAN_ADNI_sample[['ID','Absolute_Error','Error','Age']]\n",
    "\n",
    "BAN_RRIB_sample.rename(columns={'participant_id': 'ID','age':'Age'}, inplace=True)\n",
    "BAN_RRIB_sample=BAN_RRIB_sample[['ID','Absolute_Error','Error','Age']]\n",
    "BAN_RRIB_sample['ID']='RRIB_' + BAN_RRIB_sample['ID']\n",
    "\n",
    "BAN_JUK_sample.rename(columns={'participant_id': 'ID','age':'Age'}, inplace=True)\n",
    "BAN_JUK_sample=BAN_JUK_sample[['ID','Absolute_Error','Error','Age']]\n",
    "\n",
    "concat_BAN = pd.concat([BAN_UNSAM_sample, BAN_ADNI_sample, BAN_JUK_sample, BAN_RRIB_sample], ignore_index=True)"
   ]
  },
  {
   "cell_type": "code",
   "execution_count": 65,
   "id": "5094cc19",
   "metadata": {},
   "outputs": [],
   "source": [
    "#overall MAE for every model\n",
    "BAN_MAE=concat_BAN['Absolute_Error'].mean()\n",
    "DBN_MAE=concat_DBN['Absolute_Error'].mean()\n",
    "pyment_MAE=concat_pyment['Absolute_Error'].mean()\n",
    "ENIGMA_MAE=concat_ENIGMA['Absolute Error'].mean()\n",
    "#overall me for every model\n",
    "BAN_ME=concat_BAN['Error'].mean()\n",
    "DBN_ME=concat_DBN['Error'].mean()\n",
    "pyment_ME=concat_pyment['Error'].mean()\n",
    "ENIGMA_ME=concat_ENIGMA['Error'].mean()\n",
    "#overall ASTD for every model\n",
    "BAN_astd=concat_BAN['Absolute_Error'].std()\n",
    "DBN_astd=concat_DBN['Absolute_Error'].std()\n",
    "pyment_astd=concat_pyment['Absolute_Error'].std()\n",
    "ENIGMA_astd=concat_ENIGMA['Absolute Error'].std()\n",
    "#overall STD for every model\n",
    "BAN_std=concat_BAN['Error'].std()\n",
    "DBN_std=concat_DBN['Error'].std()\n",
    "pyment_std=concat_pyment['Error'].std()\n",
    "ENIGMA_std=concat_ENIGMA['Error'].std()"
   ]
  },
  {
   "cell_type": "code",
   "execution_count": 66,
   "id": "5f692758",
   "metadata": {},
   "outputs": [
    {
     "name": "stdout",
     "output_type": "stream",
     "text": [
      "BAN: 4.56142574428283\n",
      "DBN: 6.207536471649485\n",
      "pyment: 3.659210755844156\n",
      "ENIGMA: 12.352370060485203\n"
     ]
    }
   ],
   "source": [
    "print(f\"BAN: {BAN_MAE}\")\n",
    "print(f\"DBN: {DBN_MAE}\")\n",
    "print(f\"pyment: {pyment_MAE}\")\n",
    "print(f\"ENIGMA: {ENIGMA_MAE}\")"
   ]
  },
  {
   "cell_type": "code",
   "execution_count": 67,
   "id": "736b0eb5",
   "metadata": {},
   "outputs": [
    {
     "name": "stdout",
     "output_type": "stream",
     "text": [
      "BAN: -3.7203962554931627\n",
      "DBN: 2.096501234536083\n",
      "pyment: -1.0878763714285717\n",
      "ENIGMA: -2.08536321148176\n"
     ]
    }
   ],
   "source": [
    "print(f\"BAN: {BAN_ME}\")\n",
    "print(f\"DBN: {DBN_ME}\")\n",
    "print(f\"pyment: {pyment_ME}\")\n",
    "print(f\"ENIGMA: {ENIGMA_ME}\")"
   ]
  },
  {
   "cell_type": "code",
   "execution_count": 68,
   "id": "6a703db6",
   "metadata": {},
   "outputs": [
    {
     "name": "stdout",
     "output_type": "stream",
     "text": [
      "BAN astd: 3.6725210436847076\n",
      "DBN astd: 4.658936651664468\n",
      "pyment astd: 3.133668385673893\n",
      "ENIGMA astd: 8.843390864456174\n"
     ]
    }
   ],
   "source": [
    "print(f\"BAN astd: {BAN_astd}\")\n",
    "print(f\"DBN astd: {DBN_astd}\")\n",
    "print(f\"pyment astd: {pyment_astd}\")\n",
    "print(f\"ENIGMA astd: {ENIGMA_astd}\")"
   ]
  },
  {
   "cell_type": "code",
   "execution_count": 69,
   "id": "bf290602",
   "metadata": {},
   "outputs": [
    {
     "name": "stdout",
     "output_type": "stream",
     "text": [
      "BAN std: 4.52445194668876\n",
      "DBN std: 7.478776285336921\n",
      "pyment std: 4.696595923970451\n",
      "ENIGMA std: 15.06057427804092\n"
     ]
    }
   ],
   "source": [
    "print(f\"BAN std: {BAN_std}\")\n",
    "print(f\"DBN std: {DBN_std}\")\n",
    "print(f\"pyment std: {pyment_std}\")\n",
    "print(f\"ENIGMA std: {ENIGMA_std}\")"
   ]
  },
  {
   "cell_type": "code",
   "execution_count": 70,
   "id": "3d61ed7a",
   "metadata": {},
   "outputs": [],
   "source": [
    "# Mean error for every age bin and model\n",
    "bins = [20, 30, 40, 50, 60, 70, 80, 90]\n",
    "labels = ['20-29', '30-39', '40-49', '50-59', '60-69', '70-79', '80-89']\n",
    "\n",
    "# create a new column 'Age_bin' in each dataframe\n",
    "concat_BAN['Age_bin'] = pd.cut(concat_BAN['Age'], bins=bins, labels=labels, right=False)\n",
    "concat_DBN['Age_bin'] = pd.cut(concat_DBN['Age'], bins=bins, labels=labels, right=False)\n",
    "concat_pyment['Age_bin'] = pd.cut(concat_pyment['Age'], bins=bins, labels=labels, right=False)\n",
    "concat_ENIGMA['Age_bin'] = pd.cut(concat_ENIGMA['Age'], bins=bins, labels=labels, right=False)"
   ]
  },
  {
   "cell_type": "code",
   "execution_count": 71,
   "id": "ec10047d",
   "metadata": {},
   "outputs": [
    {
     "name": "stderr",
     "output_type": "stream",
     "text": [
      "C:\\Users\\parri\\AppData\\Local\\Temp\\ipykernel_9008\\3158249565.py:1: FutureWarning: The default of observed=False is deprecated and will be changed to True in a future version of pandas. Pass observed=False to retain current behavior or observed=True to adopt the future default and silence this warning.\n",
      "  mean_error_by_bin_BAN = concat_BAN.groupby('Age_bin')['Error'].mean()\n",
      "C:\\Users\\parri\\AppData\\Local\\Temp\\ipykernel_9008\\3158249565.py:2: FutureWarning: The default of observed=False is deprecated and will be changed to True in a future version of pandas. Pass observed=False to retain current behavior or observed=True to adopt the future default and silence this warning.\n",
      "  mean_error_by_bin_DBN = concat_DBN.groupby('Age_bin')['Error'].mean()\n",
      "C:\\Users\\parri\\AppData\\Local\\Temp\\ipykernel_9008\\3158249565.py:3: FutureWarning: The default of observed=False is deprecated and will be changed to True in a future version of pandas. Pass observed=False to retain current behavior or observed=True to adopt the future default and silence this warning.\n",
      "  mean_error_by_bin_pyment = concat_pyment.groupby('Age_bin')['Error'].mean()\n",
      "C:\\Users\\parri\\AppData\\Local\\Temp\\ipykernel_9008\\3158249565.py:4: FutureWarning: The default of observed=False is deprecated and will be changed to True in a future version of pandas. Pass observed=False to retain current behavior or observed=True to adopt the future default and silence this warning.\n",
      "  mean_error_by_bin_ENIGMA = concat_ENIGMA.groupby('Age_bin')['Error'].mean()\n"
     ]
    }
   ],
   "source": [
    "mean_error_by_bin_BAN = concat_BAN.groupby('Age_bin')['Error'].mean()\n",
    "mean_error_by_bin_DBN = concat_DBN.groupby('Age_bin')['Error'].mean()\n",
    "mean_error_by_bin_pyment = concat_pyment.groupby('Age_bin')['Error'].mean()\n",
    "mean_error_by_bin_ENIGMA = concat_ENIGMA.groupby('Age_bin')['Error'].mean()"
   ]
  },
  {
   "cell_type": "code",
   "execution_count": 72,
   "id": "bd915d98",
   "metadata": {},
   "outputs": [
    {
     "data": {
      "text/plain": [
       "Age_bin\n",
       "20-29   -1.590672\n",
       "30-39   -3.512308\n",
       "40-49   -4.361859\n",
       "50-59   -4.193119\n",
       "60-69   -2.280226\n",
       "70-79   -5.476091\n",
       "80-89   -6.920789\n",
       "Name: Error, dtype: float64"
      ]
     },
     "execution_count": 72,
     "metadata": {},
     "output_type": "execute_result"
    }
   ],
   "source": [
    "mean_error_by_bin_BAN"
   ]
  }
 ],
 "metadata": {
  "kernelspec": {
   "display_name": "Python 3",
   "language": "python",
   "name": "python3"
  },
  "language_info": {
   "codemirror_mode": {
    "name": "ipython",
    "version": 3
   },
   "file_extension": ".py",
   "mimetype": "text/x-python",
   "name": "python",
   "nbconvert_exporter": "python",
   "pygments_lexer": "ipython3",
   "version": "3.11.9"
  }
 },
 "nbformat": 4,
 "nbformat_minor": 5
}
