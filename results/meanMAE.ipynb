{
 "cells": [
  {
   "cell_type": "code",
   "execution_count": 2,
   "id": "f3fd7326",
   "metadata": {},
   "outputs": [],
   "source": [
    "import pandas as pd\n",
    "import seaborn as sns\n",
    "import matplotlib.pyplot as plt\n",
    "import numpy as np"
   ]
  },
  {
   "cell_type": "code",
   "execution_count": 19,
   "id": "8c5615a7",
   "metadata": {},
   "outputs": [],
   "source": [
    "BAN_CP=pd.read_csv('/data/Lautaro/Documentos/BrainAgeCOVID/DATOS/predictions/BrainAgeNeXt/BAN_CP.csv')\n",
    "BAN_ADNI=pd.read_csv('/data/Lautaro/Documentos/BrainAgeCOVID/DATOS/predictions/BrainAgeNeXt/BAN_ADNI.csv')\n",
    "BAN_CogConVar=pd.read_csv('/data/Lautaro/Documentos/BrainAgeCOVID/DATOS/predictions/BrainAgeNeXt/BAN_CogConVar.csv')\n",
    "BAN_NCN=pd.read_csv('/data/Lautaro/Documentos/BrainAgeCOVID/DATOS/predictions/BrainAgeNeXt/BAN_NCN.csv')\n",
    "\n",
    "DBN_CP=pd.read_csv('/data/Lautaro/Documentos/BrainAgeCOVID/DATOS/predictions/DeepBrainNet/DBN_CP_BET.csv')\n",
    "DBN_ADNI=pd.read_csv('/data/Lautaro/Documentos/BrainAgeCOVID/DATOS/predictions/DeepBrainNet/DBN_ADNI_BET.csv')\n",
    "DBN_CogConVar=pd.read_csv('/data/Lautaro/Documentos/BrainAgeCOVID/DATOS/predictions/DeepBrainNet/DBN_CogConVar_BET.csv')\n",
    "DBN_NCN=pd.read_csv('/data/Lautaro/Documentos/BrainAgeCOVID/DATOS/predictions/DeepBrainNet/DBN_NCN_BET.csv')\n",
    "\n",
    "pyment_CP=pd.read_csv('/data/Lautaro/Documentos/BrainAgeCOVID/DATOS/predictions/pyment/pyment_CP.csv')\n",
    "pyment_ADNI=pd.read_csv('/data/Lautaro/Documentos/BrainAgeCOVID/DATOS/predictions/pyment/pyment_ADNI.csv')\n",
    "pyment_CogConVar=pd.read_csv('/data/Lautaro/Documentos/BrainAgeCOVID/DATOS/predictions/pyment/pyment_CogConVar.csv')\n",
    "pyment_NCN=pd.read_csv('/data/Lautaro/Documentos/BrainAgeCOVID/DATOS/predictions/pyment/pyment_NCN.csv')\n",
    "\n",
    "ENIGMA_CP=pd.read_csv('/data/Lautaro/Documentos/BrainAgeCOVID/DATOS/predictions/ENIGMA/ENIGMA_CP.csv')\n",
    "ENIGMA_ADNI=pd.read_csv('/data/Lautaro/Documentos/BrainAgeCOVID/DATOS/predictions/ENIGMA/ENIGMA_ADNI.csv')\n",
    "ENIGMA_NCN= pd.read_csv('/data/Lautaro/Documentos/BrainAgeCOVID/DATOS/predictions/ENIGMA/ENIGMA_NCN.csv')\n",
    "ENIGMA_CogConVar=pd.read_csv('/data/Lautaro/Documentos/BrainAgeCOVID/DATOS/predictions/ENIGMA/ENIGMA_CogConVar.csv')"
   ]
  },
  {
   "cell_type": "code",
   "execution_count": 20,
   "id": "5d8795ce",
   "metadata": {},
   "outputs": [],
   "source": [
    "# Sample 135 random subjects from each dataset\n",
    "BAN_CP_sample = BAN_CP.sample(n=135, random_state=42)\n",
    "BAN_ADNI_sample = BAN_ADNI.sample(n=135, random_state=42)\n",
    "BAN_CogConVar_sample = BAN_CogConVar.sample(n=135, random_state=42)\n",
    "BAN_NCN_sample = BAN_NCN.sample(n=135, random_state=42)\n",
    "\n",
    "DBN_CP_sample = DBN_CP.sample(n=135, random_state=42)\n",
    "DBN_ADNI_sample = DBN_ADNI.sample(n=135, random_state=42)\n",
    "DBN_CogConVar_sample = DBN_CogConVar.sample(n=135, random_state=42)\n",
    "DBN_NCN_sample = DBN_NCN.sample(n=135, random_state=42)\n",
    "\n",
    "pyment_CP_sample = pyment_CP.sample(n=135, random_state=42)\n",
    "pyment_ADNI_sample = pyment_ADNI.sample(n=135, random_state=42)\n",
    "pyment_CogConVar_sample = pyment_CogConVar.sample(n=135, random_state=42)\n",
    "pyment_NCN_sample = pyment_NCN.sample(n=135, random_state=42)\n",
    "\n",
    "ENIGMA_CP_sample = ENIGMA_CP.sample(n=135, random_state=42)\n",
    "ENIGMA_ADNI_sample = ENIGMA_ADNI.sample(n=135, random_state=42)\n",
    "ENIGMA_NCN_sample = ENIGMA_NCN.sample(n=135, random_state=42)\n",
    "ENIGMA_CogConVar_sample = ENIGMA_CogConVar.sample(n=135, random_state=42)"
   ]
  },
  {
   "cell_type": "code",
   "execution_count": 21,
   "id": "5094cc19",
   "metadata": {},
   "outputs": [],
   "source": [
    "BAN_MAE=(BAN_ADNI_sample['Absolute_Error'].sum()+BAN_CP_sample['Absolute_Error'].sum()+BAN_CogConVar_sample['Absolute_Error'].sum()+BAN_NCN_sample['Absolute_Error'].sum())/ (135*4)\n",
    "DBN_MAE=(DBN_ADNI_sample['Absolute_error'].sum()+DBN_CP_sample['Absolute_Error'].sum()+DBN_CogConVar_sample['Absolute_error'].sum()+DBN_NCN_sample['Absolute_error'].sum())/ (135*4)\n",
    "pyment_MAE=(pyment_ADNI_sample['Absolute_Error'].sum()+pyment_CP_sample['Absolute_Error'].sum()+pyment_CogConVar_sample['Absolute_Error'].sum()+pyment_NCN_sample['Absolute_Error'].sum())/ (135*4)\n",
    "ENIGMA_MAE=(ENIGMA_ADNI_sample['Absolute Error'].sum()+ENIGMA_CP_sample['Absolute_Error'].sum()+ENIGMA_NCN_sample['Absolute Error'].sum()+ENIGMA_CogConVar_sample['Absolute Error'].sum())/ (135*4)"
   ]
  },
  {
   "cell_type": "code",
   "execution_count": 22,
   "id": "5f692758",
   "metadata": {},
   "outputs": [
    {
     "name": "stdout",
     "output_type": "stream",
     "text": [
      "BAN: 4.570572831895617\n",
      "DBN: 6.271751533333333\n",
      "pyment: 3.7824262592592595\n",
      "ENIGMA: 11.815079590824515\n"
     ]
    }
   ],
   "source": [
    "print(f\"BAN: {BAN_MAE}\")\n",
    "print(f\"DBN: {DBN_MAE}\")\n",
    "print(f\"pyment: {pyment_MAE}\")\n",
    "print(f\"ENIGMA: {ENIGMA_MAE}\")"
   ]
  }
 ],
 "metadata": {
  "kernelspec": {
   "display_name": "Python 3",
   "language": "python",
   "name": "python3"
  },
  "language_info": {
   "codemirror_mode": {
    "name": "ipython",
    "version": 3
   },
   "file_extension": ".py",
   "mimetype": "text/x-python",
   "name": "python",
   "nbconvert_exporter": "python",
   "pygments_lexer": "ipython3",
   "version": "3.10.12"
  }
 },
 "nbformat": 4,
 "nbformat_minor": 5
}
